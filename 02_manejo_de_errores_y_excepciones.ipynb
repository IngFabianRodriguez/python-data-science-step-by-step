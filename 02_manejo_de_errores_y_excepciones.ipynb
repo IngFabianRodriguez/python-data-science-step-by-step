{
 "cells": [
  {
   "cell_type": "markdown",
   "metadata": {},
   "source": [
    " # Manejo de Errores y Excepciones en Python\n",
    "\n",
    "\n",
    "\n",
    " En programación, los errores y excepciones son inevitables. El manejo de excepciones permite que el código sea más robusto y maneje adecuadamente situaciones imprevistas o indeseadas.\n",
    "\n",
    "\n",
    "\n",
    " Python proporciona una forma de manejar estos errores mediante el uso de **excepciones** que permiten capturar y manejar los errores sin que el programa se detenga abruptamente.\n",
    "\n",
    " En esta lección, aprenderemos sobre:\n",
    "\n",
    "\n",
    "\n",
    " 1. **¿Qué son las excepciones?**\n",
    "\n",
    " 2. **Uso de `try`, `except`, `else`, `finally`**\n",
    "\n",
    " 3. **Tipos comunes de excepciones**\n",
    "\n",
    " 4. **Excepciones personalizadas**\n",
    "\n",
    " 5. **Ejemplos prácticos**\n",
    "\n",
    " 6. **Ejercicio de validación de entrada de datos con manejo de excepciones**"
   ]
  },
  {
   "cell_type": "markdown",
   "metadata": {},
   "source": [
    " ---\n",
    "\n",
    " ## ¿Qué son las Excepciones?\n",
    "\n",
    "\n",
    "\n",
    " Las **excepciones** son eventos que ocurren durante la ejecución de un programa y que interrumpen el flujo normal del programa si no se manejan correctamente. En Python, una excepción es un tipo especial de error que se puede capturar y gestionar.\n",
    "\n",
    "\n",
    "\n",
    " Ejemplos de excepciones comunes:\n",
    "\n",
    " - `ZeroDivisionError`: Se produce al intentar dividir un número entre cero.\n",
    "\n",
    " - `TypeError`: Se produce cuando una operación se aplica a un tipo de dato inapropiado.\n",
    "\n",
    " - `ValueError`: Se produce cuando se pasa un valor incorrecto a una función o método.\n",
    "\n",
    " - `IndexError`: Ocurre cuando se intenta acceder a un índice inexistente en una secuencia, como una lista.\n",
    "\n",
    " - `KeyError`: Ocurre cuando una clave especificada no existe en un diccionario.\n",
    "\n",
    "\n",
    "\n",
    " Veamos un ejemplo de una excepción común:"
   ]
  },
  {
   "cell_type": "code",
   "execution_count": 1,
   "metadata": {},
   "outputs": [
    {
     "name": "stdout",
     "output_type": "stream",
     "text": [
      "Error: No se puede dividir por cero.\n"
     ]
    }
   ],
   "source": [
    "# Ejemplo de ZeroDivisionError\n",
    "try:\n",
    "    resultado = 10 / 0\n",
    "except ZeroDivisionError:\n",
    "    print(\"Error: No se puede dividir por cero.\")"
   ]
  },
  {
   "cell_type": "markdown",
   "metadata": {},
   "source": [
    " ---\n",
    "\n",
    " ## Uso de `try`, `except`, `else`, y `finally`\n",
    "\n",
    "\n",
    "\n",
    " En Python, el manejo de excepciones se realiza principalmente con el bloque `try-except`. También existen las cláusulas `else` y `finally` para manejar diferentes casos en el flujo del manejo de excepciones:\n",
    "\n",
    "\n",
    "\n",
    " - **`try`**: Es el bloque que contiene el código que puede producir una excepción.\n",
    "\n",
    " - **`except`**: Define cómo manejar la excepción si ocurre en el bloque `try`.\n",
    "\n",
    " - **`else`**: Se ejecuta si el bloque `try` no genera ninguna excepción.\n",
    "\n",
    " - **`finally`**: Este bloque se ejecuta siempre, ya sea si ocurre una excepción o no, y es útil para realizar limpieza de recursos como cerrar archivos o conexiones.\n",
    "\n",
    "\n",
    "\n",
    " ### Ejemplo básico:"
   ]
  },
  {
   "cell_type": "code",
   "execution_count": 2,
   "metadata": {},
   "outputs": [
    {
     "name": "stdout",
     "output_type": "stream",
     "text": [
      "El número ingresado es: 12\n",
      "¡Ingreso exitoso!\n",
      "Fin del programa\n"
     ]
    }
   ],
   "source": [
    "try:\n",
    "    numero = int(input(\"Ingresa un número: \"))\n",
    "    print(\"El número ingresado es:\", numero)\n",
    "except ValueError:\n",
    "    print(\"Error: Por favor, ingresa un número válido.\")\n",
    "else:\n",
    "    print(\"¡Ingreso exitoso!\")\n",
    "finally:\n",
    "    print(\"Fin del programa\")"
   ]
  },
  {
   "cell_type": "markdown",
   "metadata": {},
   "source": [
    " ---\n",
    "\n",
    " ## Tipos Comunes de Excepciones\n",
    "\n",
    "\n",
    "\n",
    " Aquí hay algunos tipos de excepciones comunes en Python:\n",
    "\n",
    "\n",
    "\n",
    " - **`ValueError`**: Ocurre cuando se recibe un valor incorrecto.\n",
    "\n",
    " - **`TypeError`**: Ocurre cuando una operación se realiza en tipos de datos inapropiados.\n",
    "\n",
    " - **`IndexError`**: Ocurre cuando se accede a un índice inexistente.\n",
    "\n",
    " - **`KeyError`**: Ocurre cuando se accede a una clave que no existe en un diccionario.\n",
    "\n",
    " - **`ZeroDivisionError`**: Se genera cuando se intenta dividir por cero.\n",
    "\n",
    "\n",
    "\n",
    " Ejemplo de cada uno:"
   ]
  },
  {
   "cell_type": "code",
   "execution_count": 3,
   "metadata": {},
   "outputs": [
    {
     "name": "stdout",
     "output_type": "stream",
     "text": [
      "Error: No se puede convertir el texto en número.\n",
      "Error: No se pueden sumar una cadena y un número.\n",
      "Error: Índice fuera de rango.\n",
      "Error: La clave no existe en el diccionario.\n",
      "Error: No se puede dividir por cero.\n"
     ]
    }
   ],
   "source": [
    "# Ejemplos de excepciones comunes\n",
    "\n",
    "# ValueError\n",
    "try:\n",
    "    int(\"texto\")\n",
    "except ValueError:\n",
    "    print(\"Error: No se puede convertir el texto en número.\")\n",
    "\n",
    "# TypeError\n",
    "try:\n",
    "    resultado = \"hola\" + 5\n",
    "except TypeError:\n",
    "    print(\"Error: No se pueden sumar una cadena y un número.\")\n",
    "\n",
    "# IndexError\n",
    "try:\n",
    "    lista = [1, 2, 3]\n",
    "    print(lista[5])\n",
    "except IndexError:\n",
    "    print(\"Error: Índice fuera de rango.\")\n",
    "\n",
    "# KeyError\n",
    "try:\n",
    "    diccionario = {\"nombre\": \"Carlos\"}\n",
    "    print(diccionario[\"edad\"])\n",
    "except KeyError:\n",
    "    print(\"Error: La clave no existe en el diccionario.\")\n",
    "\n",
    "# ZeroDivisionError\n",
    "try:\n",
    "    resultado = 10 / 0\n",
    "except ZeroDivisionError:\n",
    "    print(\"Error: No se puede dividir por cero.\")"
   ]
  },
  {
   "cell_type": "markdown",
   "metadata": {},
   "source": [
    " ---\n",
    "\n",
    " ## Creación de Excepciones Personalizadas\n",
    "\n",
    "\n",
    "\n",
    " Python permite definir excepciones personalizadas creando clases que heredan de `Exception`. Esto es útil cuando queremos manejar tipos específicos de errores que no se cubren con las excepciones predefinidas de Python.\n",
    "\n",
    "\n",
    "\n",
    " ### Ejemplo:\n",
    "\n"
   ]
  },
  {
   "cell_type": "code",
   "execution_count": 4,
   "metadata": {},
   "outputs": [
    {
     "name": "stdout",
     "output_type": "stream",
     "text": [
      "Error: Edad inválida. Debe estar entre 0 y 150 años.\n"
     ]
    }
   ],
   "source": [
    "# Excepción personalizada\n",
    "class ErrorEdadInvalida(Exception):\n",
    "    \"\"\"Excepción lanzada cuando la edad ingresada no es válida (menor que 0 o mayor que 150).\"\"\"\n",
    "\n",
    "    pass\n",
    "\n",
    "\n",
    "def verificar_edad(edad):\n",
    "    if edad < 0 or edad > 150:\n",
    "        raise ErrorEdadInvalida(\"Edad inválida. Debe estar entre 0 y 150 años.\")\n",
    "    else:\n",
    "        print(\"Edad válida:\", edad)\n",
    "\n",
    "\n",
    "# Uso de la excepción personalizada\n",
    "try:\n",
    "    verificar_edad(200)\n",
    "except ErrorEdadInvalida as e:\n",
    "    print(\"Error:\", e)"
   ]
  },
  {
   "cell_type": "markdown",
   "metadata": {},
   "source": [
    " ---\n",
    "\n",
    " ## Ejemplos Prácticos de Manejo de Excepciones\n",
    "\n",
    "\n",
    "\n",
    " 1. **División de Números con Manejo de Excepciones**:\n",
    "\n",
    "\n",
    "\n",
    "     Crear una función que reciba dos números y devuelva su cociente. Manejar excepciones para casos en los que el divisor es cero o se recibe un valor no numérico.\n",
    "\n",
    "\n",
    "\n",
    " 2. **Ingreso de Edad con Validación**:\n",
    "\n",
    "\n",
    "\n",
    "     Pedir al usuario su edad e implementar un bloque `try-except` para manejar valores incorrectos. Si la edad es válida, mostrar un mensaje de bienvenida, y si no es válida, mostrar un mensaje de error.\n",
    "\n"
   ]
  },
  {
   "cell_type": "code",
   "execution_count": 5,
   "metadata": {},
   "outputs": [
    {
     "name": "stdout",
     "output_type": "stream",
     "text": [
      "El resultado de la división es: 5.0\n",
      "Error: No se puede dividir por cero.\n",
      "Error: Ambos valores deben ser números.\n",
      "Error: invalid literal for int() with base 10: 'e'\n"
     ]
    }
   ],
   "source": [
    "# Ejemplo práctico: División con manejo de excepciones\n",
    "def dividir(numerador, divisor):\n",
    "    try:\n",
    "        resultado = numerador / divisor\n",
    "        print(f\"El resultado de la división es: {resultado}\")\n",
    "    except ZeroDivisionError:\n",
    "        print(\"Error: No se puede dividir por cero.\")\n",
    "    except TypeError:\n",
    "        print(\"Error: Ambos valores deben ser números.\")\n",
    "\n",
    "\n",
    "dividir(10, 2)\n",
    "dividir(10, 0)\n",
    "dividir(10, \"cinco\")\n",
    "\n",
    "\n",
    "# Ejemplo práctico: Validación de edad\n",
    "def ingresar_edad():\n",
    "    try:\n",
    "        edad = int(input(\"Por favor, ingresa tu edad: \"))\n",
    "        if edad < 0:\n",
    "            raise ValueError(\"La edad no puede ser negativa.\")\n",
    "        print(f\"Tienes {edad} años. Bienvenido/a!\")\n",
    "    except ValueError as e:\n",
    "        print(\"Error:\", e)\n",
    "\n",
    "\n",
    "ingresar_edad()"
   ]
  },
  {
   "cell_type": "markdown",
   "metadata": {},
   "source": [
    " ---\n",
    "\n",
    " ## Ejercicio Práctico: Validación de Entrada de Datos\n",
    "\n",
    "\n",
    "\n",
    " Crear una función `ingresar_numero()` que pida al usuario ingresar un número entero. La función debe manejar las siguientes excepciones:\n",
    "\n",
    "\n",
    "\n",
    " - `ValueError` si el usuario ingresa un valor no numérico.\n",
    "\n",
    " - Excepción personalizada si el número es negativo.\n",
    "\n",
    "\n",
    "\n",
    " ### Requisitos:\n",
    "\n",
    "\n",
    "\n",
    " - Si el usuario ingresa un número válido, la función debe mostrar el número ingresado.\n",
    "\n",
    " - Si ocurre una excepción, la función debe mostrar un mensaje de error y pedir al usuario que ingrese el número nuevamente hasta que sea válido."
   ]
  },
  {
   "cell_type": "code",
   "execution_count": 6,
   "metadata": {},
   "outputs": [
    {
     "name": "stdout",
     "output_type": "stream",
     "text": [
      "Error: El número no puede ser negativo.\n",
      "Número ingresado: 5\n"
     ]
    }
   ],
   "source": [
    "# Ejercicio práctico: Validación de entrada de datos\n",
    "class NumeroNegativoError(Exception):\n",
    "    \"\"\"Excepción lanzada cuando el número ingresado es negativo.\"\"\"\n",
    "\n",
    "    pass\n",
    "\n",
    "\n",
    "def ingresar_numero():\n",
    "    while True:\n",
    "        try:\n",
    "            numero = int(input(\"Ingresa un número positivo: \"))\n",
    "            if numero < 0:\n",
    "                raise NumeroNegativoError(\"El número no puede ser negativo.\")\n",
    "            print(f\"Número ingresado: {numero}\")\n",
    "            break\n",
    "        except ValueError:\n",
    "            print(\"Error: Debes ingresar un número entero.\")\n",
    "        except NumeroNegativoError as e:\n",
    "            print(\"Error:\", e)\n",
    "\n",
    "\n",
    "ingresar_numero()"
   ]
  }
 ],
 "metadata": {
  "kernelspec": {
   "display_name": "Python 3",
   "language": "python",
   "name": "python3"
  },
  "language_info": {
   "codemirror_mode": {
    "name": "ipython",
    "version": 3
   },
   "file_extension": ".py",
   "mimetype": "text/x-python",
   "name": "python",
   "nbconvert_exporter": "python",
   "pygments_lexer": "ipython3",
   "version": "3.12.0"
  }
 },
 "nbformat": 4,
 "nbformat_minor": 2
}
