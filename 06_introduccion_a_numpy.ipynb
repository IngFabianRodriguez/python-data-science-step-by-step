{
 "cells": [
  {
   "cell_type": "markdown",
   "metadata": {},
   "source": [
    " # Introducción a NumPy\n",
    "\n",
    "\n",
    "\n",
    " NumPy es una biblioteca esencial para la computación científica en Python. Proporciona estructuras de datos y funciones para manejar arrays multidimensionales de manera eficiente. En esta sección, aprenderemos a crear y manipular arrays usando NumPy, una herramienta indispensable en el análisis de datos, la ciencia de datos y la computación numérica."
   ]
  },
  {
   "cell_type": "markdown",
   "metadata": {},
   "source": [
    " ## Crear Arrays a partir de Listas de Python\n",
    "\n",
    "\n",
    "\n",
    " La forma más común de crear un array en NumPy es mediante la conversión de una lista de Python usando la función `np.array()`. Esto es útil cuando queremos aprovechar las capacidades de cálculo y manipulación de arrays de NumPy."
   ]
  },
  {
   "cell_type": "code",
   "execution_count": 1,
   "metadata": {},
   "outputs": [],
   "source": [
    "import numpy as np  # Importamos NumPy y usamos el alias común 'np'.\n"
   ]
  },
  {
   "cell_type": "code",
   "execution_count": 2,
   "metadata": {},
   "outputs": [
    {
     "data": {
      "text/plain": [
       "array([1, 2, 3, 4, 5])"
      ]
     },
     "execution_count": 2,
     "metadata": {},
     "output_type": "execute_result"
    }
   ],
   "source": [
    "np.array([1, 2, 3, 4, 5])  # Convertimos la lista [1, 2, 3, 4, 5] en un array de NumPy."
   ]
  },
  {
   "cell_type": "markdown",
   "metadata": {},
   "source": [
    " El código anterior convierte una lista de Python en un array de NumPy. Esto nos permite acceder a las poderosas funciones y operaciones de NumPy que no están disponibles para listas normales de Python."
   ]
  },
  {
   "cell_type": "markdown",
   "metadata": {},
   "source": [
    " ## Especificar el Tipo de Datos de un Array\n",
    "\n",
    "\n",
    "\n",
    " NumPy permite definir explícitamente el tipo de datos del array usando el argumento `dtype`. Esto puede ser importante para el manejo de memoria y precisión en cálculos numéricos, especialmente al trabajar con tipos específicos como `float` o `int`."
   ]
  },
  {
   "cell_type": "code",
   "execution_count": 3,
   "metadata": {},
   "outputs": [
    {
     "data": {
      "text/plain": [
       "array([1., 2., 3., 4., 5.], dtype=float32)"
      ]
     },
     "execution_count": 3,
     "metadata": {},
     "output_type": "execute_result"
    }
   ],
   "source": [
    "np.array([1, 2, 3, 4, 5], dtype='float32')  # Creamos un array de tipo 'float32' a partir de una lista."
   ]
  },
  {
   "cell_type": "markdown",
   "metadata": {},
   "source": [
    " Aquí hemos convertido la lista `[1, 2, 3, 4, 5]` en un array de números de punto flotante de precisión simple (`float32`). Esto puede ser útil para garantizar la precisión numérica o reducir el uso de memoria."
   ]
  },
  {
   "cell_type": "markdown",
   "metadata": {},
   "source": [
    " ## Crear Arrays Multidimensionales\n",
    "\n",
    "\n",
    "\n",
    " Los arrays multidimensionales son útiles para representar matrices y datos tabulares. NumPy facilita la creación de arrays de dimensiones superiores."
   ]
  },
  {
   "cell_type": "code",
   "execution_count": 4,
   "metadata": {},
   "outputs": [
    {
     "data": {
      "text/plain": [
       "array([[2, 3, 4],\n",
       "       [4, 5, 6],\n",
       "       [6, 7, 8]])"
      ]
     },
     "execution_count": 4,
     "metadata": {},
     "output_type": "execute_result"
    }
   ],
   "source": [
    "np.array([range(i, i + 3) for i in [2, 4, 6]])  # Creamos un array 2D donde cada sublista es una fila."
   ]
  },
  {
   "cell_type": "markdown",
   "metadata": {},
   "source": [
    " El código anterior genera un array bidimensional (una matriz) con filas `[2, 3, 4]`, `[4, 5, 6]` y `[6, 7, 8]`. Esto se logra utilizando una lista de comprensión."
   ]
  },
  {
   "cell_type": "markdown",
   "metadata": {},
   "source": [
    " ## Creación de Arrays desde Cero\n",
    "\n",
    "\n",
    "\n",
    " NumPy ofrece funciones para crear arrays grandes sin necesidad de convertir listas. Esto es útil para la inicialización rápida de matrices."
   ]
  },
  {
   "cell_type": "markdown",
   "metadata": {},
   "source": [
    " ### Crear un Array de Ceros\n",
    "\n",
    "\n",
    "\n",
    " `np.zeros` crea un array de un tamaño específico, inicializando todos los valores a `0`."
   ]
  },
  {
   "cell_type": "code",
   "execution_count": 5,
   "metadata": {},
   "outputs": [
    {
     "data": {
      "text/plain": [
       "array([0, 0, 0, 0, 0, 0, 0, 0, 0, 0])"
      ]
     },
     "execution_count": 5,
     "metadata": {},
     "output_type": "execute_result"
    }
   ],
   "source": [
    "np.zeros(10, dtype=int)  # Crea un array de 10 elementos, todos inicializados a cero."
   ]
  },
  {
   "cell_type": "markdown",
   "metadata": {},
   "source": [
    " ### Crear un Array de Unos\n",
    "\n",
    "\n",
    "\n",
    " `np.ones` crea un array lleno de `1`s con dimensiones especificadas. Esto puede ser útil para cálculos donde necesitamos matrices de referencia."
   ]
  },
  {
   "cell_type": "code",
   "execution_count": 6,
   "metadata": {},
   "outputs": [
    {
     "data": {
      "text/plain": [
       "array([[1., 1., 1., 1., 1.],\n",
       "       [1., 1., 1., 1., 1.],\n",
       "       [1., 1., 1., 1., 1.]])"
      ]
     },
     "execution_count": 6,
     "metadata": {},
     "output_type": "execute_result"
    }
   ],
   "source": [
    "np.ones((3, 5), dtype=float)  # Crea un array de 3 filas y 5 columnas lleno de unos, con tipo `float`."
   ]
  },
  {
   "cell_type": "markdown",
   "metadata": {},
   "source": [
    " ### Crear un Array Lleno de un Valor Constante\n",
    "\n",
    "\n",
    "\n",
    " `np.full` permite crear un array donde cada elemento tiene un valor específico."
   ]
  },
  {
   "cell_type": "code",
   "execution_count": 7,
   "metadata": {},
   "outputs": [
    {
     "data": {
      "text/plain": [
       "array([[3.14, 3.14, 3.14, 3.14, 3.14],\n",
       "       [3.14, 3.14, 3.14, 3.14, 3.14],\n",
       "       [3.14, 3.14, 3.14, 3.14, 3.14]])"
      ]
     },
     "execution_count": 7,
     "metadata": {},
     "output_type": "execute_result"
    }
   ],
   "source": [
    "np.full((3, 5), 3.14)  # Crea un array 3x5 con todos los valores igual a `3.14`."
   ]
  },
  {
   "cell_type": "markdown",
   "metadata": {},
   "source": [
    " ### Crear un Array Usando `np.arange`\n",
    "\n",
    "\n",
    "\n",
    " `np.arange` es similar a `range` en Python, pero devuelve un array en lugar de una lista."
   ]
  },
  {
   "cell_type": "code",
   "execution_count": 8,
   "metadata": {},
   "outputs": [
    {
     "data": {
      "text/plain": [
       "array([ 0,  2,  4,  6,  8, 10, 12, 14, 16, 18])"
      ]
     },
     "execution_count": 8,
     "metadata": {},
     "output_type": "execute_result"
    }
   ],
   "source": [
    "np.arange(0, 20, 2)  # Genera un array con valores del 0 al 18, con un paso de 2."
   ]
  },
  {
   "cell_type": "markdown",
   "metadata": {},
   "source": [
    " ### Crear un Array de Valores Equidistantes con `np.linspace`\n",
    "\n",
    "\n",
    "\n",
    " `np.linspace` genera un número fijo de puntos equidistantes entre un valor inicial y uno final, ambos inclusivos."
   ]
  },
  {
   "cell_type": "code",
   "execution_count": 9,
   "metadata": {},
   "outputs": [
    {
     "data": {
      "text/plain": [
       "array([0.  , 0.25, 0.5 , 0.75, 1.  ])"
      ]
     },
     "execution_count": 9,
     "metadata": {},
     "output_type": "execute_result"
    }
   ],
   "source": [
    "np.linspace(0, 1, 5)  # Genera un array con 5 valores equidistantes entre 0 y 1."
   ]
  },
  {
   "cell_type": "markdown",
   "metadata": {},
   "source": [
    " ### Generar Valores Aleatorios con NumPy\n",
    "\n",
    "\n",
    "\n",
    " NumPy ofrece una variedad de funciones para generar números aleatorios. Aquí usaremos un generador de números aleatorios para crear arrays."
   ]
  },
  {
   "cell_type": "code",
   "execution_count": 10,
   "metadata": {},
   "outputs": [
    {
     "data": {
      "text/plain": [
       "array([[0.77395605, 0.43887844, 0.85859792],\n",
       "       [0.69736803, 0.09417735, 0.97562235],\n",
       "       [0.7611397 , 0.78606431, 0.12811363]])"
      ]
     },
     "execution_count": 10,
     "metadata": {},
     "output_type": "execute_result"
    }
   ],
   "source": [
    "rng = np.random.default_rng(seed=42)  # Creamos un generador de números aleatorios con una semilla para reproducibilidad.\n",
    "rng.random((3, 3))  # Genera un array 3x3 de valores aleatorios en el intervalo [0, 1)."
   ]
  },
  {
   "cell_type": "markdown",
   "metadata": {},
   "source": [
    " ### Generar Valores Aleatorios con Distribución Normal\n",
    "\n",
    "\n",
    "\n",
    " `rng.normal` genera valores distribuidos normalmente con una media y desviación estándar especificadas."
   ]
  },
  {
   "cell_type": "code",
   "execution_count": 11,
   "metadata": {},
   "outputs": [
    {
     "data": {
      "text/plain": [
       "array([[-0.85304393,  0.87939797,  0.77779194],\n",
       "       [ 0.0660307 ,  1.12724121,  0.46750934],\n",
       "       [-0.85929246,  0.36875078, -0.9588826 ]])"
      ]
     },
     "execution_count": 11,
     "metadata": {},
     "output_type": "execute_result"
    }
   ],
   "source": [
    "rng.normal(0, 1, (3, 3))  # Genera un array 3x3 de valores con distribución normal (media=0, desviación estándar=1)."
   ]
  },
  {
   "cell_type": "markdown",
   "metadata": {},
   "source": [
    " ### Generar Enteros Aleatorios\n",
    "\n",
    "\n",
    "\n",
    " `rng.integers` crea un array de enteros aleatorios dentro de un rango específico."
   ]
  },
  {
   "cell_type": "code",
   "execution_count": 12,
   "metadata": {},
   "outputs": [
    {
     "data": {
      "text/plain": [
       "array([[8, 8, 2],\n",
       "       [6, 1, 7],\n",
       "       [7, 3, 0]], dtype=int64)"
      ]
     },
     "execution_count": 12,
     "metadata": {},
     "output_type": "execute_result"
    }
   ],
   "source": [
    "rng.integers(0, 10, (3, 3))  # Genera un array 3x3 de enteros aleatorios entre 0 y 9."
   ]
  },
  {
   "cell_type": "markdown",
   "metadata": {},
   "source": [
    " ### Crear una Matriz Identidad\n",
    "\n",
    "\n",
    "\n",
    " Una matriz identidad es una matriz cuadrada con `1`s en la diagonal principal y `0`s en el resto. Se usa comúnmente en operaciones de álgebra lineal."
   ]
  },
  {
   "cell_type": "code",
   "execution_count": 13,
   "metadata": {},
   "outputs": [
    {
     "data": {
      "text/plain": [
       "array([[1., 0., 0.],\n",
       "       [0., 1., 0.],\n",
       "       [0., 0., 1.]])"
      ]
     },
     "execution_count": 13,
     "metadata": {},
     "output_type": "execute_result"
    }
   ],
   "source": [
    "np.eye(3)  # Crea una matriz identidad de 3x3."
   ]
  },
  {
   "cell_type": "markdown",
   "metadata": {},
   "source": [
    " ### Crear un Array Vacío\n",
    "\n",
    "\n",
    "\n",
    " `np.empty` crea un array no inicializado, lo que significa que sus valores iniciales dependerán del contenido de la memoria en el momento de la creación."
   ]
  },
  {
   "cell_type": "code",
   "execution_count": 14,
   "metadata": {},
   "outputs": [
    {
     "data": {
      "text/plain": [
       "array([1., 1., 1.])"
      ]
     },
     "execution_count": 14,
     "metadata": {},
     "output_type": "execute_result"
    }
   ],
   "source": [
    "np.empty(3)  # Crea un array de tamaño 3 sin inicializar."
   ]
  }
 ],
 "metadata": {
  "kernelspec": {
   "display_name": "Python 3",
   "language": "python",
   "name": "python3"
  },
  "language_info": {
   "codemirror_mode": {
    "name": "ipython",
    "version": 3
   },
   "file_extension": ".py",
   "mimetype": "text/x-python",
   "name": "python",
   "nbconvert_exporter": "python",
   "pygments_lexer": "ipython3",
   "version": "3.12.0"
  }
 },
 "nbformat": 4,
 "nbformat_minor": 2
}
