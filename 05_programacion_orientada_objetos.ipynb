{
 "cells": [
  {
   "cell_type": "markdown",
   "metadata": {},
   "source": [
    " # Programación Orientada a Objetos (POO) en Python\n",
    "\n",
    "\n",
    "\n",
    " La Programación Orientada a Objetos (POO) es un paradigma de programación que organiza el código en torno a **objetos** y **clases**. Python es un lenguaje orientado a objetos, lo que significa que permite definir clases y crear objetos a partir de ellas.\n",
    "\n",
    "\n",
    "\n",
    " En esta lección, aprenderemos los conceptos fundamentales de la POO en Python, incluyendo:\n",
    "\n",
    "\n",
    "\n",
    " 1. **Clases y Objetos**\n",
    "\n",
    " 2. **Atributos y Métodos**\n",
    "\n",
    " 3. **Encapsulación**\n",
    "\n",
    " 4. **Herencia**\n",
    "\n",
    " 5. **Polimorfismo**\n",
    "\n",
    "\n",
    "\n",
    " ### Objetivo\n",
    "\n",
    " Comprender cómo crear clases y objetos, y cómo aplicar los principios de la POO para organizar y reutilizar el código.\n",
    "\n",
    "\n",
    "\n",
    " ---\n",
    "\n",
    " ## 1. ¿Qué es una Clase?\n",
    "\n",
    "\n",
    "\n",
    " Una **clase** es una plantilla o modelo que define las propiedades y comportamientos que pueden tener los objetos creados a partir de ella. En Python, una clase se define con la palabra clave `class`.\n",
    "\n",
    "\n",
    "\n",
    " ### Ejemplo de Definición de Clase"
   ]
  },
  {
   "cell_type": "code",
   "execution_count": 39,
   "metadata": {},
   "outputs": [
    {
     "name": "stdout",
     "output_type": "stream",
     "text": [
      "Hola, mi nombre es Carlos y tengo 30 años.\n"
     ]
    }
   ],
   "source": [
    "# Definición de una clase llamada `Persona`\n",
    "class Persona:\n",
    "    # Constructor de la clase\n",
    "    def __init__(self, nombre, edad):\n",
    "        self.nombre = nombre  # Atributo de instancia\n",
    "        self.edad = edad  # Atributo de instancia\n",
    "\n",
    "    # Método de instancia\n",
    "    def saludar(self):\n",
    "        return f\"Hola, mi nombre es {self.nombre} y tengo {self.edad} años.\"\n",
    "\n",
    "\n",
    "# Creación de un objeto de la clase Persona\n",
    "persona1 = Persona(\"Carlos\", 30)\n",
    "print(persona1.saludar())"
   ]
  },
  {
   "cell_type": "code",
   "execution_count": 40,
   "metadata": {},
   "outputs": [],
   "source": [
    "# creamos una nueva persona"
   ]
  },
  {
   "cell_type": "code",
   "execution_count": 41,
   "metadata": {},
   "outputs": [],
   "source": [
    "# Tipo de dato: <class '__main__.Persona'>"
   ]
  },
  {
   "cell_type": "code",
   "execution_count": 42,
   "metadata": {},
   "outputs": [],
   "source": [
    "# Acceso a los atributos de la clase"
   ]
  },
  {
   "cell_type": "markdown",
   "metadata": {},
   "source": [
    " ---\n",
    "\n",
    " ## 2. Atributos y Métodos\n",
    "\n",
    "\n",
    "\n",
    " - **Atributos**: Son variables que pertenecen a la clase o a los objetos de la clase. Existen dos tipos:\n",
    "\n",
    "     - **Atributos de instancia**: Se definen en el constructor (`__init__`) y son específicos de cada objeto.\n",
    "\n",
    "     - **Atributos de clase**: Se definen fuera del constructor y son compartidos por todos los objetos de la clase.\n",
    "\n",
    "\n",
    "\n",
    " - **Métodos**: Son funciones que definen el comportamiento de los objetos. Los métodos generalmente operan sobre los atributos de la clase.\n",
    "\n",
    "\n",
    "\n",
    " ### Ejemplo con Atributo de Clase y Método"
   ]
  },
  {
   "cell_type": "code",
   "execution_count": 43,
   "metadata": {},
   "outputs": [
    {
     "name": "stdout",
     "output_type": "stream",
     "text": [
      "El perro hace 'guau'\n",
      "El gato hace 'miau'\n",
      "Reino: Animalia\n"
     ]
    }
   ],
   "source": [
    "class Animal:\n",
    "    # Atributo de clase\n",
    "    reino = \"Animalia\"\n",
    "\n",
    "    def __init__(self, especie, sonido):\n",
    "        self.especie = especie\n",
    "        self.sonido = sonido\n",
    "\n",
    "    def hacer_sonido(self):\n",
    "        return f\"El {self.especie} hace '{self.sonido}'\"\n",
    "\n",
    "\n",
    "# Creación de objetos de la clase Animal\n",
    "perro = Animal(\"perro\", \"guau\")\n",
    "gato = Animal(\"gato\", \"miau\")\n",
    "\n",
    "print(perro.hacer_sonido())\n",
    "print(gato.hacer_sonido())\n",
    "print(\"Reino:\", Animal.reino)"
   ]
  },
  {
   "cell_type": "markdown",
   "metadata": {},
   "source": [
    " ---\n",
    "\n",
    " ## 3. Encapsulación\n",
    "\n",
    "\n",
    "\n",
    " La **encapsulación** es un principio que permite proteger los datos dentro de una clase, de forma que solo puedan ser modificados a través de métodos definidos. En Python, los atributos privados se definen usando un guion bajo (`_`) o dos (`__`) al comienzo del nombre.\n",
    "\n",
    "\n",
    "\n",
    " ### Ejemplo de Encapsulación"
   ]
  },
  {
   "cell_type": "code",
   "execution_count": 44,
   "metadata": {},
   "outputs": [
    {
     "name": "stdout",
     "output_type": "stream",
     "text": [
      "Saldo disponible: 1300\n"
     ]
    }
   ],
   "source": [
    "class CuentaBancaria:\n",
    "    def __init__(self, titular, saldo):\n",
    "        self.titular = titular\n",
    "        self.__saldo = saldo  # Atributo privado\n",
    "\n",
    "    def depositar(self, cantidad):\n",
    "        if cantidad > 0:\n",
    "            self.__saldo += cantidad\n",
    "\n",
    "    def retirar(self, cantidad):\n",
    "        if 0 < cantidad <= self.__saldo:\n",
    "            self.__saldo -= cantidad\n",
    "        else:\n",
    "            print(\"Fondos insuficientes.\")\n",
    "\n",
    "    def obtener_saldo(self):\n",
    "        return self.__saldo\n",
    "\n",
    "\n",
    "# Crear una cuenta y probar encapsulación\n",
    "cuenta = CuentaBancaria(\"Ana\", 1000)\n",
    "cuenta.depositar(500)\n",
    "cuenta.retirar(200)\n",
    "print(\"Saldo disponible:\", cuenta.obtener_saldo())"
   ]
  },
  {
   "cell_type": "markdown",
   "metadata": {},
   "source": [
    " ---\n",
    "\n",
    " ## 4. Herencia\n",
    "\n",
    "\n",
    "\n",
    " La **herencia** permite que una clase (clase hija) herede atributos y métodos de otra clase (clase padre). Esto permite reutilizar el código y crear jerarquías de clases.\n",
    "\n",
    "\n",
    "\n",
    " ### Ejemplo de Herencia"
   ]
  },
  {
   "cell_type": "code",
   "execution_count": 47,
   "metadata": {},
   "outputs": [
    {
     "name": "stdout",
     "output_type": "stream",
     "text": [
      "Coche: Toyota Corolla con 4 puertas\n"
     ]
    }
   ],
   "source": [
    "class Vehiculo:\n",
    "    def __init__(self, marca, modelo):\n",
    "        self.marca = marca\n",
    "        self.modelo = modelo\n",
    "\n",
    "    def describir(self):\n",
    "        return f\"Vehículo: {self.marca} {self.modelo}\"\n",
    "\n",
    "\n",
    "# Clase hija que hereda de Vehiculo\n",
    "class Coche(Vehiculo):\n",
    "    def __init__(self, marca, modelo, puertas):\n",
    "        super().__init__(marca, modelo)\n",
    "        self.puertas = puertas\n",
    "\n",
    "    def describir(self):\n",
    "        return f\"Coche: {self.marca} {self.modelo} con {self.puertas} puertas\"\n",
    "\n",
    "\n",
    "# Creación de un objeto de la clase Coche\n",
    "mi_coche = Coche(\"Toyota\", \"Corolla\", 4)\n",
    "print(mi_coche.describir())"
   ]
  },
  {
   "cell_type": "markdown",
   "metadata": {},
   "source": [
    " ---\n",
    "\n",
    " ## 5. Polimorfismo\n",
    "\n",
    "\n",
    "\n",
    " El **polimorfismo** permite que diferentes clases puedan ser utilizadas con el mismo método. Esto facilita que las clases hijas tengan métodos propios y también puedan redefinir métodos de la clase padre (sobreescritura).\n",
    "\n",
    "\n",
    "\n",
    " ### Ejemplo de Polimorfismo"
   ]
  },
  {
   "cell_type": "code",
   "execution_count": 48,
   "metadata": {},
   "outputs": [
    {
     "name": "stdout",
     "output_type": "stream",
     "text": [
      "Este ave puede volar.\n",
      "El pingüino no puede volar.\n"
     ]
    }
   ],
   "source": [
    "class Ave:\n",
    "    def volar(self):\n",
    "        return \"Este ave puede volar.\"\n",
    "\n",
    "\n",
    "class Pinguino(Ave):\n",
    "    def volar(self):\n",
    "        return \"El pingüino no puede volar.\"\n",
    "\n",
    "\n",
    "# Uso del polimorfismo\n",
    "aves = [Ave(), Pinguino()]\n",
    "\n",
    "for ave in aves:\n",
    "    print(ave.volar())"
   ]
  },
  {
   "cell_type": "markdown",
   "metadata": {},
   "source": [
    " ---\n",
    "\n",
    " ## Ejercicios de Práctica\n",
    "\n",
    "\n",
    "\n",
    " ### Ejercicio 1: Clase `Libro`\n",
    "\n",
    "\n",
    "\n",
    " 1. Crea una clase `Libro` con atributos `titulo`, `autor`, y `anio`.\n",
    "\n",
    " 2. Define un método `describir` que imprima los detalles del libro.\n",
    "\n",
    " 3. Crea varios objetos de `Libro` y muestra su descripción.\n",
    "\n",
    "\n",
    "\n",
    " ### Ejercicio 2: Clase `Empleado` y Subclase `Gerente`\n",
    "\n",
    "\n",
    "\n",
    " 1. Crea una clase `Empleado` con atributos `nombre`, `sueldo` y métodos `mostrar_informacion` y `aumentar_sueldo`.\n",
    "\n",
    " 2. Crea una clase `Gerente` que herede de `Empleado` y añada el atributo `departamento`.\n",
    "\n",
    " 3. Sobrescribe el método `mostrar_informacion` en `Gerente` para incluir el departamento.\n",
    "\n",
    "\n",
    "\n",
    " ### Ejercicio 3: Encapsulación y Clase `Cuenta`\n",
    "\n",
    "\n",
    "\n",
    " 1. Define una clase `Cuenta` con atributos privados `numero_cuenta` y `saldo`.\n",
    "\n",
    " 2. Crea métodos para depositar y retirar dinero, y otro para mostrar el saldo.\n",
    "\n",
    " 3. Implementa validaciones para que no se permita retirar más del saldo disponible.\n",
    "\n",
    "\n",
    "\n",
    " ### Soluciones de referencia:"
   ]
  },
  {
   "cell_type": "code",
   "execution_count": 49,
   "metadata": {},
   "outputs": [
    {
     "name": "stdout",
     "output_type": "stream",
     "text": [
      "1984, escrito por George Orwell en 1949\n",
      "Cien años de soledad, escrito por Gabriel García Márquez en 1967\n",
      "Empleado: Juan, Sueldo: $3000\n",
      "Gerente: Marta, Departamento: Ventas, Sueldo: $5000\n",
      "Saldo: $1200\n"
     ]
    }
   ],
   "source": [
    "# Ejercicio 1: Clase Libro\n",
    "class Libro:\n",
    "    def __init__(self, titulo, autor, anio):\n",
    "        self.titulo = titulo\n",
    "        self.autor = autor\n",
    "        self.anio = anio\n",
    "\n",
    "    def describir(self):\n",
    "        return f\"{self.titulo}, escrito por {self.autor} en {self.anio}\"\n",
    "\n",
    "\n",
    "# Creación de objetos Libro\n",
    "libro1 = Libro(\"1984\", \"George Orwell\", 1949)\n",
    "libro2 = Libro(\"Cien años de soledad\", \"Gabriel García Márquez\", 1967)\n",
    "print(libro1.describir())\n",
    "print(libro2.describir())\n",
    "\n",
    "\n",
    "# Ejercicio 2: Clase Empleado y Subclase Gerente\n",
    "class Empleado:\n",
    "    def __init__(self, nombre, sueldo):\n",
    "        self.nombre = nombre\n",
    "        self.sueldo = sueldo\n",
    "\n",
    "    def mostrar_informacion(self):\n",
    "        return f\"Empleado: {self.nombre}, Sueldo: ${self.sueldo}\"\n",
    "\n",
    "    def aumentar_sueldo(self, porcentaje):\n",
    "        self.sueldo += self.sueldo * (porcentaje / 100)\n",
    "\n",
    "\n",
    "class Gerente(Empleado):\n",
    "    def __init__(self, nombre, sueldo, departamento):\n",
    "        super().__init__(nombre, sueldo)\n",
    "        self.departamento = departamento\n",
    "\n",
    "    def mostrar_informacion(self):\n",
    "        return f\"Gerente: {self.nombre}, Departamento: {self.departamento}, Sueldo: ${self.sueldo}\"\n",
    "\n",
    "\n",
    "# Creación de objetos Empleado y Gerente\n",
    "empleado = Empleado(\"Juan\", 3000)\n",
    "gerente = Gerente(\"Marta\", 5000, \"Ventas\")\n",
    "print(empleado.mostrar_informacion())\n",
    "print(gerente.mostrar_informacion())\n",
    "\n",
    "\n",
    "# Ejercicio 3: Encapsulación en la clase Cuenta\n",
    "class Cuenta:\n",
    "    def __init__(self, numero_cuenta, saldo_inicial):\n",
    "        self.__numero_cuenta = numero_cuenta\n",
    "        self.__saldo = saldo_inicial\n",
    "\n",
    "    def depositar(self, cantidad):\n",
    "        if cantidad > 0:\n",
    "            self.__saldo += cantidad\n",
    "\n",
    "    def retirar(self, cantidad):\n",
    "        if 0 < cantidad <= self.__saldo:\n",
    "            self.__saldo -= cantidad\n",
    "        else:\n",
    "            print(\"Fondos insuficientes o cantidad no válida.\")\n",
    "\n",
    "    def mostrar_saldo(self):\n",
    "        return f\"Saldo: ${self.__saldo}\"\n",
    "\n",
    "\n",
    "# Crear una cuenta y realizar operaciones\n",
    "cuenta = Cuenta(\"123456789\", 1000)\n",
    "cuenta.depositar(500)\n",
    "cuenta.retirar(300)\n",
    "print(cuenta.mostrar_saldo())"
   ]
  }
 ],
 "metadata": {
  "kernelspec": {
   "display_name": "Python 3",
   "language": "python",
   "name": "python3"
  },
  "language_info": {
   "codemirror_mode": {
    "name": "ipython",
    "version": 3
   },
   "file_extension": ".py",
   "mimetype": "text/x-python",
   "name": "python",
   "nbconvert_exporter": "python",
   "pygments_lexer": "ipython3",
   "version": "3.12.0"
  }
 },
 "nbformat": 4,
 "nbformat_minor": 2
}
