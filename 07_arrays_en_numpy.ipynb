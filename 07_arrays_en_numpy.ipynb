{
 "cells": [
  {
   "cell_type": "markdown",
   "metadata": {},
   "source": [
    " # Fundamentos de los Arrays de NumPy\n",
    "\n",
    "\n",
    "\n",
    " La manipulación de datos en Python se asocia estrechamente con el uso de los arrays de NumPy. Muchas herramientas modernas, como Pandas, se construyen sobre la base de estos arrays, lo que hace fundamental comprender su funcionamiento. En esta sección, exploraremos cómo acceder a los datos y subarrays, así como cómo dividir, reorganizar y combinar arrays. Aunque estas operaciones básicas pueden parecer simples, constituyen los pilares para tareas más avanzadas y sofisticadas. Familiarízate bien con ellas para aprovechar al máximo NumPy.\n",
    "\n",
    "\n",
    "\n",
    " A continuación, cubriremos varias categorías de manipulación de arrays:\n",
    "\n",
    "\n",
    "\n",
    " - **Atributos de arrays**: Cómo determinar el tamaño, forma, consumo de memoria y tipos de datos de los arrays.\n",
    "\n",
    " - **Indexación de arrays**: Cómo obtener y modificar elementos individuales de un array.\n",
    "\n",
    " - **Rebanado (slicing) de arrays**: Cómo acceder y modificar subarrays.\n",
    "\n",
    " - **Reorganización de arrays**: Cómo cambiar la forma de un array existente.\n",
    "\n",
    " - **Unión y división de arrays**: Cómo combinar múltiples arrays en uno o dividir uno en varios."
   ]
  },
  {
   "cell_type": "markdown",
   "metadata": {},
   "source": [
    " ## Atributos de los Arrays en NumPy\n",
    "\n",
    "\n",
    "\n",
    " Vamos a empezar definiendo tres arrays aleatorios de una, dos y tres dimensiones, utilizando el generador de números aleatorios de NumPy. Utilizaremos una semilla para garantizar que se generen los mismos números cada vez que ejecutemos el código."
   ]
  },
  {
   "cell_type": "code",
   "execution_count": 1,
   "metadata": {},
   "outputs": [],
   "source": [
    "import numpy as np  # Importamos la biblioteca NumPy y la referenciamos con el alias 'np'.\n",
    "\n",
    "rng = np.random.default_rng(0)  # Creamos un generador de números aleatorios con una semilla fija.\n",
    "x1 = rng.integers(10, size=6)  # Array unidimensional con 6 elementos aleatorios entre 0 y 9.\n",
    "x2 = rng.integers(10, size=(3, 4))  # Array bidimensional de tamaño 3x4 con elementos aleatorios.\n",
    "x3 = rng.integers(10, size=(3, 4, 5))  # Array tridimensional de tamaño 3x4x5 con elementos aleatorios.\n"
   ]
  },
  {
   "cell_type": "markdown",
   "metadata": {},
   "source": [
    " Los arrays de NumPy tienen varios atributos útiles, como `ndim` (número de dimensiones), `shape` (tamaño de cada dimensión) y `size` (número total de elementos)."
   ]
  },
  {
   "cell_type": "code",
   "execution_count": 2,
   "metadata": {},
   "outputs": [
    {
     "name": "stdout",
     "output_type": "stream",
     "text": [
      "\n",
      "x3 ndim:  3  # Muestra el número de dimensiones del array `x3`.\n",
      "x3 shape: (3, 4, 5)  # Muestra el tamaño de cada dimensión del array `x3`.\n",
      "x3 size:  60  # Muestra el número total de elementos en el array `x3`.\n",
      "\n"
     ]
    }
   ],
   "source": [
    "print(f\"\"\"\n",
    "x3 ndim:  {x3.ndim}  # Muestra el número de dimensiones del array `x3`.\n",
    "x3 shape: {x3.shape}  # Muestra el tamaño de cada dimensión del array `x3`.\n",
    "x3 size:  {x3.size}  # Muestra el número total de elementos en el array `x3`.\n",
    "\"\"\")\n"
   ]
  },
  {
   "cell_type": "markdown",
   "metadata": {},
   "source": [
    " Otro atributo importante es `dtype`, que muestra el tipo de datos de los elementos en el array."
   ]
  },
  {
   "cell_type": "code",
   "execution_count": 3,
   "metadata": {},
   "outputs": [
    {
     "name": "stdout",
     "output_type": "stream",
     "text": [
      "dtype: int64\n"
     ]
    }
   ],
   "source": [
    "print(\"dtype:\", x3.dtype)  # Muestra el tipo de datos de los elementos en `x3`.\n"
   ]
  },
  {
   "cell_type": "markdown",
   "metadata": {},
   "source": [
    " Los atributos `itemsize` y `nbytes` proporcionan información sobre el tamaño en bytes de cada elemento y el tamaño total del array, respectivamente."
   ]
  },
  {
   "cell_type": "code",
   "execution_count": 4,
   "metadata": {},
   "outputs": [
    {
     "name": "stdout",
     "output_type": "stream",
     "text": [
      "\n",
      "itemsize: 8 bytes  # Tamaño en bytes de cada elemento del array `x3`.\n",
      "nbytes: 480 bytes  # Tamaño total en bytes del array `x3`.\n",
      "\n"
     ]
    }
   ],
   "source": [
    "print(f\"\"\"\n",
    "itemsize: {x3.itemsize} bytes  # Tamaño en bytes de cada elemento del array `x3`.\n",
    "nbytes: {x3.nbytes} bytes  # Tamaño total en bytes del array `x3`.\n",
    "\"\"\")\n"
   ]
  },
  {
   "cell_type": "markdown",
   "metadata": {},
   "source": [
    " En general, `nbytes` es igual a `itemsize` multiplicado por `size`, lo que nos indica el espacio total que ocupa el array en memoria."
   ]
  },
  {
   "cell_type": "markdown",
   "metadata": {},
   "source": [
    " ## Indexación de Arrays: Acceso a Elementos Individuales\n",
    "\n",
    "\n",
    "\n",
    " La indexación de elementos en un array de NumPy es similar a la indexación en listas de Python. En un array unidimensional, puedes acceder al elemento en la posición `i` usando corchetes."
   ]
  },
  {
   "cell_type": "code",
   "execution_count": 5,
   "metadata": {},
   "outputs": [
    {
     "name": "stdout",
     "output_type": "stream",
     "text": [
      "\n",
      "Mostramos el array `x1`:\n",
      "[8 6 5 2 3 0]\n",
      "\n",
      "Accedemos al primer elemento del array `x1`:\n",
      "8\n",
      "\n",
      "Accedemos al quinto elemento del array `x1`:\n",
      "3\n",
      "\n"
     ]
    }
   ],
   "source": [
    "print(f\"\"\"\n",
    "Mostramos el array `x1`:\n",
    "{x1}\n",
    "\n",
    "Accedemos al primer elemento del array `x1`:\n",
    "{x1[0]}\n",
    "\n",
    "Accedemos al quinto elemento del array `x1`:\n",
    "{x1[4]}\n",
    "\"\"\")\n"
   ]
  },
  {
   "cell_type": "markdown",
   "metadata": {},
   "source": [
    " También podemos usar índices negativos para acceder a los elementos desde el final del array."
   ]
  },
  {
   "cell_type": "code",
   "execution_count": 6,
   "metadata": {},
   "outputs": [
    {
     "name": "stdout",
     "output_type": "stream",
     "text": [
      "\n",
      "Último elemento del array `x1`:\n",
      "0\n",
      "\n",
      "Penúltimo elemento del array `x1`:\n",
      "3\n",
      "\n"
     ]
    }
   ],
   "source": [
    "print(f\"\"\"\n",
    "Último elemento del array `x1`:\n",
    "{x1[-1]}\n",
    "\n",
    "Penúltimo elemento del array `x1`:\n",
    "{x1[-2]}\n",
    "\"\"\")\n"
   ]
  },
  {
   "cell_type": "markdown",
   "metadata": {},
   "source": [
    " En arrays multidimensionales, accedemos a los elementos mediante una tupla de índices separados por comas."
   ]
  },
  {
   "cell_type": "code",
   "execution_count": 7,
   "metadata": {},
   "outputs": [
    {
     "name": "stdout",
     "output_type": "stream",
     "text": [
      "\n",
      "Mostramos el array bidimensional `x2`:\n",
      "[[0 0 1 8]\n",
      " [6 9 5 6]\n",
      " [9 7 6 5]]\n",
      "\n",
      "Primer elemento de la primera fila del array `x2`:\n",
      "0\n",
      "\n",
      "Primer elemento de la tercera fila del array `x2`:\n",
      "9\n",
      "\n",
      "Último elemento de la tercera fila del array `x2`:\n",
      "5\n",
      "\n"
     ]
    }
   ],
   "source": [
    "print(f\"\"\"\n",
    "Mostramos el array bidimensional `x2`:\n",
    "{x2}\n",
    "\n",
    "Primer elemento de la primera fila del array `x2`:\n",
    "{x2[0, 0]}\n",
    "\n",
    "Primer elemento de la tercera fila del array `x2`:\n",
    "{x2[2, 0]}\n",
    "\n",
    "Último elemento de la tercera fila del array `x2`:\n",
    "{x2[2, -1]}\n",
    "\"\"\")\n"
   ]
  },
  {
   "cell_type": "markdown",
   "metadata": {},
   "source": [
    " Podemos modificar los valores de los elementos utilizando la misma notación de índice."
   ]
  },
  {
   "cell_type": "code",
   "execution_count": 8,
   "metadata": {},
   "outputs": [
    {
     "name": "stdout",
     "output_type": "stream",
     "text": [
      "\n",
      "Array `x2` después de modificar el primer elemento de la primera fila:\n",
      "[[12  0  1  8]\n",
      " [ 6  9  5  6]\n",
      " [ 9  7  6  5]]\n",
      "\n"
     ]
    }
   ],
   "source": [
    "x2[0, 0] = 12  # Modificamos el primer elemento de la primera fila de `x2`.\n",
    "print(f\"\"\"\n",
    "Array `x2` después de modificar el primer elemento de la primera fila:\n",
    "{x2}\n",
    "\"\"\")\n"
   ]
  },
  {
   "cell_type": "markdown",
   "metadata": {},
   "source": [
    " A diferencia de las listas de Python, los arrays de NumPy tienen un tipo de dato fijo. Esto significa que si intentamos asignar un valor de un tipo diferente, se realizará una conversión automática, posiblemente truncando el valor."
   ]
  },
  {
   "cell_type": "code",
   "execution_count": 9,
   "metadata": {},
   "outputs": [
    {
     "name": "stdout",
     "output_type": "stream",
     "text": [
      "\n",
      "Array `x1` después de asignar un valor de punto flotante truncado:\n",
      "[3 6 5 2 3 0]\n",
      "\n"
     ]
    }
   ],
   "source": [
    "x1[0] = 3.14159  # El valor de punto flotante será truncado al convertirlo a un entero.\n",
    "print(f\"\"\"\n",
    "Array `x1` después de asignar un valor de punto flotante truncado:\n",
    "{x1}\n",
    "\"\"\")\n"
   ]
  },
  {
   "cell_type": "markdown",
   "metadata": {},
   "source": [
    " ## Rebanado (Slicing) de Arrays: Acceso a Subarrays\n",
    "\n",
    "\n",
    "\n",
    " Podemos acceder a subarrays utilizando la notación de slicing (rebanado) con el carácter `:`. La sintaxis general para un slicing es `x[start:stop:step]`."
   ]
  },
  {
   "cell_type": "code",
   "execution_count": 10,
   "metadata": {},
   "outputs": [
    {
     "name": "stdout",
     "output_type": "stream",
     "text": [
      "\n",
      "Primeros cinco elementos:\n",
      "[0 1 2 3 4]\n",
      "\n",
      "Elementos a partir del índice 5:\n",
      "[5 6 7 8 9]\n",
      "\n",
      "Subarray del índice 4 al 6:\n",
      "[4 5 6]\n",
      "\n",
      "Elementos con paso de 2:\n",
      "[0 2 4 6 8]\n",
      "\n",
      "Elementos a partir del índice 1 con paso de 2:\n",
      "[1 3 5 7 9]\n",
      "\n"
     ]
    }
   ],
   "source": [
    "x = np.arange(10)  # Creamos un array con valores del 0 al 9.\n",
    "print(f\"\"\"\n",
    "Primeros cinco elementos:\n",
    "{x[:5]}\n",
    "\n",
    "Elementos a partir del índice 5:\n",
    "{x[5:]}\n",
    "\n",
    "Subarray del índice 4 al 6:\n",
    "{x[4:7]}\n",
    "\n",
    "Elementos con paso de 2:\n",
    "{x[::2]}\n",
    "\n",
    "Elementos a partir del índice 1 con paso de 2:\n",
    "{x[1::2]}\n",
    "\"\"\")\n"
   ]
  },
  {
   "cell_type": "markdown",
   "metadata": {},
   "source": [
    " El paso negativo nos permite invertir el orden del array."
   ]
  },
  {
   "cell_type": "code",
   "execution_count": 11,
   "metadata": {},
   "outputs": [
    {
     "name": "stdout",
     "output_type": "stream",
     "text": [
      "\n",
      "Mostrar el array `x`: [0 1 2 3 4 5 6 7 8 9]\n",
      "    ---\n",
      "Mostrar los elementos en orden inverso: [9 8 7 6 5 4 3 2 1 0]\n",
      "Mostrar los elementos en orden inverso desde el índice 5 con paso de 2: [5 3 1]\n",
      "\n"
     ]
    }
   ],
   "source": [
    "x = np.arange(10)  # Creamos un array con valores del 0 al 9.\n",
    "print(f\"\"\"\n",
    "Mostrar el array `x`: {x}\n",
    "    ---\n",
    "Mostrar los elementos en orden inverso: {x[::-1]}\n",
    "Mostrar los elementos en orden inverso desde el índice 5 con paso de 2: {x[5::-2]}\n",
    "\"\"\")\n"
   ]
  },
  {
   "cell_type": "markdown",
   "metadata": {},
   "source": [
    " ## Subarrays Multidimensionales\n",
    "\n",
    "\n",
    "\n",
    " Los subarrays en arrays multidimensionales funcionan de manera similar, pero podemos aplicar múltiples slicing separados por comas."
   ]
  },
  {
   "cell_type": "code",
   "execution_count": 12,
   "metadata": {},
   "outputs": [
    {
     "name": "stdout",
     "output_type": "stream",
     "text": [
      "\n",
      "Primeras dos filas y primeras tres columnas de `x2`:\n",
      "[[12  0  1]\n",
      " [ 6  9  5]]\n",
      "\n",
      "Todas las filas, cada dos columnas:\n",
      "[[12  1]\n",
      " [ 6  5]\n",
      " [ 9  6]]\n",
      "\n"
     ]
    }
   ],
   "source": [
    "print(f\"\"\"\n",
    "Primeras dos filas y primeras tres columnas de `x2`:\n",
    "{x2[:2, :3]}\n",
    "\n",
    "Todas las filas, cada dos columnas:\n",
    "{x2[:, ::2]}\n",
    "\"\"\")"
   ]
  },
  {
   "cell_type": "markdown",
   "metadata": {},
   "source": [
    " También podemos invertir dimensiones combinando slicing."
   ]
  },
  {
   "cell_type": "code",
   "execution_count": 13,
   "metadata": {},
   "outputs": [
    {
     "name": "stdout",
     "output_type": "stream",
     "text": [
      "\n",
      "Invierte filas y columnas del array `x2`:\n",
      "[[ 5  6  7  9]\n",
      " [ 6  5  9  6]\n",
      " [ 8  1  0 12]]\n",
      "\n"
     ]
    }
   ],
   "source": [
    "print(f\"\"\"\n",
    "Invierte filas y columnas del array `x2`:\n",
    "{x2[::-1, ::-1]}\n",
    "\"\"\")\n"
   ]
  },
  {
   "cell_type": "markdown",
   "metadata": {},
   "source": [
    " ## Acceso a Filas y Columnas en Arrays\n",
    "\n",
    "\n",
    "\n",
    " Es común acceder a filas o columnas individuales. Esto se puede lograr combinando la indexación y el slicing."
   ]
  },
  {
   "cell_type": "code",
   "execution_count": 14,
   "metadata": {},
   "outputs": [
    {
     "name": "stdout",
     "output_type": "stream",
     "text": [
      "\n",
      "Primera columna de `x2`:\n",
      "[12  6  9]\n",
      "\n",
      "Primera fila de `x2`:\n",
      "[12  0  1  8]\n",
      "\n",
      "Equivalente a `x2[0, :]`:\n",
      "[12  0  1  8]\n",
      "\n"
     ]
    }
   ],
   "source": [
    "print(f\"\"\"\n",
    "Primera columna de `x2`:\n",
    "{x2[:, 0]}\n",
    "\n",
    "Primera fila de `x2`:\n",
    "{x2[0, :]}\n",
    "\n",
    "Equivalente a `x2[0, :]`:\n",
    "{x2[0]}\n",
    "\"\"\")\n"
   ]
  },
  {
   "cell_type": "markdown",
   "metadata": {},
   "source": [
    " ## Subarrays como Vistas Sin Copias\n",
    "\n",
    "\n",
    "\n",
    " Cuando realizamos slicing de un array en NumPy, se crea una vista, no una copia. Esto significa que las modificaciones en el subarray afectan al array original."
   ]
  },
  {
   "cell_type": "code",
   "execution_count": 15,
   "metadata": {},
   "outputs": [
    {
     "name": "stdout",
     "output_type": "stream",
     "text": [
      "\n",
      "Subarray extraído (x2_sub):\n",
      "[[12  0]\n",
      " [ 6  9]]\n",
      "\n",
      "\n",
      "Subarray modificado (x2_sub):\n",
      "[[99  0]\n",
      " [ 6  9]]\n",
      "\n",
      "Array original modificado (x2):\n",
      "[[99  0  1  8]\n",
      " [ 6  9  5  6]\n",
      " [ 9  7  6  5]]\n",
      "\n"
     ]
    }
   ],
   "source": [
    "x2_sub = x2[:2, :2]  # Extraemos un subarray 2x2.\n",
    "print(f\"\"\"\n",
    "Subarray extraído (x2_sub):\n",
    "{x2_sub}\n",
    "\"\"\")\n",
    "x2_sub[0, 0] = 99  # Modificamos el subarray.\n",
    "print(f\"\"\"\n",
    "Subarray modificado (x2_sub):\n",
    "{x2_sub}\n",
    "\n",
    "Array original modificado (x2):\n",
    "{x2}\n",
    "\"\"\")\n"
   ]
  },
  {
   "cell_type": "markdown",
   "metadata": {},
   "source": [
    " Si necesitamos una copia del subarray para que los cambios no afecten al array original, podemos usar `copy()`."
   ]
  },
  {
   "cell_type": "code",
   "execution_count": 16,
   "metadata": {},
   "outputs": [
    {
     "name": "stdout",
     "output_type": "stream",
     "text": [
      "\n",
      "Copia del subarray modificada (x2_sub_copy):\n",
      "[[42  0]\n",
      " [ 6  9]]\n",
      "\n",
      "Array original (x2) no se ve afectado:\n",
      "[[99  0  1  8]\n",
      " [ 6  9  5  6]\n",
      " [ 9  7  6  5]]\n",
      "\n"
     ]
    }
   ],
   "source": [
    "x2_sub_copy = x2[:2, :2].copy()  # Creamos una copia del subarray.\n",
    "x2_sub_copy[0, 0] = 42  # Modificamos la copia.\n",
    "\n",
    "print(f\"\"\"\n",
    "Copia del subarray modificada (x2_sub_copy):\n",
    "{x2_sub_copy}\n",
    "\n",
    "Array original (x2) no se ve afectado:\n",
    "{x2}\n",
    "\"\"\")\n"
   ]
  },
  {
   "cell_type": "markdown",
   "metadata": {},
   "source": [
    " ## Reorganización de Arrays\n",
    "\n",
    "\n",
    "\n",
    " Podemos cambiar la forma de un array con el método `reshape()`. Por ejemplo, podemos reorganizar números del 1 al 9 en una cuadrícula de 3x3."
   ]
  },
  {
   "cell_type": "code",
   "execution_count": 17,
   "metadata": {},
   "outputs": [
    {
     "name": "stdout",
     "output_type": "stream",
     "text": [
      "[[1 2 3]\n",
      " [4 5 6]\n",
      " [7 8 9]]\n"
     ]
    }
   ],
   "source": [
    "grid = np.arange(1, 10).reshape((3, 3))\n",
    "print(grid)\n"
   ]
  },
  {
   "cell_type": "markdown",
   "metadata": {},
   "source": [
    " La conversión de arrays unidimensionales a matrices de fila o columna también es común."
   ]
  },
  {
   "cell_type": "code",
   "execution_count": 18,
   "metadata": {},
   "outputs": [
    {
     "name": "stdout",
     "output_type": "stream",
     "text": [
      "\n",
      "Convertimos `x1` en un vector fila usando reshape:\n",
      "[[1 2 3]]\n",
      "\n",
      "Usamos `np.newaxis` para convertirlo en un vector fila:\n",
      "[[1 2 3]]\n",
      "\n",
      "Convertimos `x1` en un vector columna usando reshape:\n",
      "[[1]\n",
      " [2]\n",
      " [3]]\n",
      "\n",
      "Usamos `np.newaxis` para convertirlo en un vector columna:\n",
      "[[1]\n",
      " [2]\n",
      " [3]]\n",
      "\n"
     ]
    }
   ],
   "source": [
    "x1 = np.array([1, 2, 3])\n",
    "print(f\"\"\"\n",
    "Convertimos `x1` en un vector fila usando reshape:\n",
    "{x1.reshape((1, 3))}\n",
    "\n",
    "Usamos `np.newaxis` para convertirlo en un vector fila:\n",
    "{x1[np.newaxis, :]}\n",
    "\n",
    "Convertimos `x1` en un vector columna usando reshape:\n",
    "{x1.reshape((3, 1))}\n",
    "\n",
    "Usamos `np.newaxis` para convertirlo en un vector columna:\n",
    "{x1[:, np.newaxis]}\n",
    "\"\"\")\n"
   ]
  },
  {
   "cell_type": "markdown",
   "metadata": {},
   "source": [
    " ## Concatenación y División de Arrays\n",
    "\n",
    "\n",
    "\n",
    " Podemos combinar múltiples arrays en uno con funciones como `np.concatenate`, `np.vstack` y `np.hstack`, y también dividir un array en varios subarrays."
   ]
  },
  {
   "cell_type": "code",
   "execution_count": 19,
   "metadata": {},
   "outputs": [
    {
     "name": "stdout",
     "output_type": "stream",
     "text": [
      "\n",
      "Concatenamos `x` e `y`:\n",
      "[1 2 3 3 2 1]\n",
      "\n",
      "Concatenamos `x`, `y` y `z`:\n",
      "[ 1  2  3  3  2  1 99 99 99]\n",
      "\n"
     ]
    }
   ],
   "source": [
    "x = np.array([1, 2, 3])\n",
    "y = np.array([3, 2, 1])\n",
    "z = [99, 99, 99]\n",
    "\n",
    "print(f\"\"\"\n",
    "Concatenamos `x` e `y`:\n",
    "{np.concatenate([x, y])}\n",
    "\n",
    "Concatenamos `x`, `y` y `z`:\n",
    "{np.concatenate([x, y, z])}\n",
    "\"\"\")\n"
   ]
  },
  {
   "cell_type": "markdown",
   "metadata": {},
   "source": [
    " Para arrays bidimensionales, podemos usar `np.vstack` para apilamiento vertical y `np.hstack` para apilamiento horizontal."
   ]
  },
  {
   "cell_type": "code",
   "execution_count": 20,
   "metadata": {},
   "outputs": [
    {
     "name": "stdout",
     "output_type": "stream",
     "text": [
      "\n",
      "Apilamos `x` como fila encima de `grid`:\n",
      "[[1 2 3]\n",
      " [1 2 3]\n",
      " [4 5 6]]\n",
      "\n",
      "\n",
      "Apilamos `y` como columna al lado de `grid`:\n",
      "[[ 1  2  3 99]\n",
      " [ 4  5  6 99]]\n",
      "\n"
     ]
    }
   ],
   "source": [
    "grid = np.array([[1, 2, 3], [4, 5, 6]])\n",
    "print(f\"\"\"\n",
    "Apilamos `x` como fila encima de `grid`:\n",
    "{np.vstack([x, grid])}\n",
    "\"\"\")\n",
    "\n",
    "y = np.array([[99], [99]])\n",
    "print(f\"\"\"\n",
    "Apilamos `y` como columna al lado de `grid`:\n",
    "{np.hstack([grid, y])}\n",
    "\"\"\")\n"
   ]
  },
  {
   "cell_type": "markdown",
   "metadata": {},
   "source": [
    " La división de arrays se realiza con `np.split`, `np.hsplit` y `np.vsplit`."
   ]
  },
  {
   "cell_type": "code",
   "execution_count": 21,
   "metadata": {},
   "outputs": [
    {
     "name": "stdout",
     "output_type": "stream",
     "text": [
      "\n",
      "Subarray x1: [1 2 3]\n",
      "Subarray x2: [99 99]\n",
      "Subarray x3: [3 2 1]\n",
      "\n"
     ]
    }
   ],
   "source": [
    "\"\"\"\n",
    "Dividimos `x` en tres partes y mostramos los subarrays resultantes.\n",
    "\"\"\"\n",
    "\n",
    "x = [1, 2, 3, 99, 99, 3, 2, 1]\n",
    "x1, x2, x3 = np.split(x, [3, 5])  # Dividimos `x` en tres partes.\n",
    "\n",
    "print(f\"\"\"\n",
    "Subarray x1: {x1}\n",
    "Subarray x2: {x2}\n",
    "Subarray x3: {x3}\n",
    "\"\"\")\n"
   ]
  },
  {
   "cell_type": "markdown",
   "metadata": {},
   "source": []
  }
 ],
 "metadata": {
  "kernelspec": {
   "display_name": "Python 3",
   "language": "python",
   "name": "python3"
  },
  "language_info": {
   "codemirror_mode": {
    "name": "ipython",
    "version": 3
   },
   "file_extension": ".py",
   "mimetype": "text/x-python",
   "name": "python",
   "nbconvert_exporter": "python",
   "pygments_lexer": "ipython3",
   "version": "3.12.0"
  }
 },
 "nbformat": 4,
 "nbformat_minor": 2
}
