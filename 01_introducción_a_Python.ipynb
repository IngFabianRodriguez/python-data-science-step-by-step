{
 "cells": [
  {
   "cell_type": "markdown",
   "metadata": {},
   "source": [
    " # Introducción a Python 🐍\n",
    "\n",
    "\n",
    "\n",
    " ¡Bienvenidos a esta primera lección de Python! En esta notebook, exploraremos los conceptos básicos de este lenguaje, desde variables hasta funciones y estructuras de control.\n",
    "\n",
    "\n",
    "\n",
    " Python es un lenguaje de programación versátil, sencillo de aprender y muy utilizado en ciencia de datos, inteligencia artificial, desarrollo web y mucho más."
   ]
  },
  {
   "cell_type": "markdown",
   "metadata": {},
   "source": [
    " ---\n",
    "\n",
    "\n",
    "\n",
    " ## Comentarios en Python\n",
    "\n",
    "\n",
    "\n",
    " Los comentarios en Python son líneas de texto que no se ejecutan como parte del programa. Se utilizan para explicar y documentar el código, lo que facilita su comprensión y mantenimiento. Los comentarios pueden proporcionar contexto sobre lo que hace una sección de código, describir la lógica detrás de una implementación o señalar áreas que requieren atención futura.\n",
    "\n",
    "\n",
    "\n",
    " En Python, los comentarios se crean utilizando el símbolo `#`. Todo lo que sigue a este símbolo en la misma línea se considera un comentario y es ignorado por el intérprete de Python.\n",
    "\n",
    "\n",
    "\n",
    " Ejemplo de comentario en Python:"
   ]
  },
  {
   "cell_type": "code",
   "execution_count": 35,
   "metadata": {},
   "outputs": [],
   "source": [
    "# Esto es un comentario en Python.\n",
    "# Los comentarios no son ejecutados y sirven para explicar el código.\n"
   ]
  },
  {
   "cell_type": "markdown",
   "metadata": {},
   "source": [
    " ---\n",
    "\n",
    " ## Variables y Tipos de Datos\n",
    "\n",
    "\n",
    "\n",
    " Los tipos de datos en Python determinan qué operaciones se pueden realizar en esos valores. Aquí hay una descripción de los tipos de datos más comunes en Python:\n",
    "\n",
    "\n",
    "\n",
    " - **Enteros (int)**: Representan números enteros, positivos o negativos, sin decimales.\n",
    "\n",
    "\n",
    "\n",
    " ```python\n",
    "\n",
    " entero = 2023\n",
    "\n",
    " ```\n",
    "\n",
    "\n",
    "\n",
    " - **Flotantes (float)**: Representan números reales con punto decimal.\n",
    "\n",
    "\n",
    "\n",
    " ```python\n",
    "\n",
    " decimal = 3.14\n",
    "\n",
    " flotante = 9.81\n",
    "\n",
    " ```\n",
    "\n",
    "\n",
    "\n",
    " - **Cadenas de texto (str)**: Representan secuencias de caracteres, como palabras o frases.\n",
    "\n",
    "\n",
    "\n",
    " ```python\n",
    "\n",
    " texto = \"Hola, mundo\"\n",
    "\n",
    " cadena = \"Python es genial\"\n",
    "\n",
    " ```\n",
    "\n",
    "\n",
    "\n",
    " - **Booleanos (bool)**: Representan valores de verdad, `True` o `False`.\n",
    "\n",
    "\n",
    "\n",
    " ```python\n",
    "\n",
    " es_verdadero = True\n",
    "\n",
    " booleano = False\n",
    "\n",
    " ```"
   ]
  },
  {
   "cell_type": "code",
   "execution_count": 36,
   "metadata": {},
   "outputs": [],
   "source": [
    "# Variables y asignación\n",
    "texto = \"Hola, mundo\"  # Cadena de texto (string)\n",
    "numero = 42  # Número entero (integer)\n",
    "decimal = 3.14  # Número decimal (float)\n",
    "es_verdadero = True  # Booleano (True o False)\n"
   ]
  },
  {
   "cell_type": "code",
   "execution_count": 37,
   "metadata": {},
   "outputs": [
    {
     "data": {
      "text/plain": [
       "'Hola, mundo'"
      ]
     },
     "execution_count": 37,
     "metadata": {},
     "output_type": "execute_result"
    }
   ],
   "source": [
    "texto\n"
   ]
  },
  {
   "cell_type": "code",
   "execution_count": 38,
   "metadata": {},
   "outputs": [
    {
     "data": {
      "text/plain": [
       "42"
      ]
     },
     "execution_count": 38,
     "metadata": {},
     "output_type": "execute_result"
    }
   ],
   "source": [
    "numero\n"
   ]
  },
  {
   "cell_type": "code",
   "execution_count": 39,
   "metadata": {},
   "outputs": [
    {
     "data": {
      "text/plain": [
       "3.14"
      ]
     },
     "execution_count": 39,
     "metadata": {},
     "output_type": "execute_result"
    }
   ],
   "source": [
    "decimal\n"
   ]
  },
  {
   "cell_type": "code",
   "execution_count": 40,
   "metadata": {},
   "outputs": [
    {
     "data": {
      "text/plain": [
       "True"
      ]
     },
     "execution_count": 40,
     "metadata": {},
     "output_type": "execute_result"
    }
   ],
   "source": [
    "es_verdadero\n"
   ]
  },
  {
   "cell_type": "markdown",
   "metadata": {},
   "source": [
    " ---\n",
    "\n",
    "\n",
    "\n",
    " ## Operadores Básicos en Python\n",
    "\n",
    "\n",
    "\n",
    " En Python, los operadores son símbolos que se utilizan para realizar operaciones sobre valores y variables."
   ]
  },
  {
   "cell_type": "code",
   "execution_count": 41,
   "metadata": {},
   "outputs": [],
   "source": [
    "# Operadores aritméticos\n",
    "a = 10\n",
    "b = 3\n",
    "\n",
    "suma = a + b\n",
    "resta = a - b\n",
    "multiplicacion = a * b\n",
    "division = a / b\n"
   ]
  },
  {
   "cell_type": "code",
   "execution_count": 42,
   "metadata": {},
   "outputs": [
    {
     "data": {
      "text/plain": [
       "13"
      ]
     },
     "execution_count": 42,
     "metadata": {},
     "output_type": "execute_result"
    }
   ],
   "source": [
    "suma\n"
   ]
  },
  {
   "cell_type": "code",
   "execution_count": 43,
   "metadata": {},
   "outputs": [
    {
     "data": {
      "text/plain": [
       "7"
      ]
     },
     "execution_count": 43,
     "metadata": {},
     "output_type": "execute_result"
    }
   ],
   "source": [
    "resta\n"
   ]
  },
  {
   "cell_type": "code",
   "execution_count": 44,
   "metadata": {},
   "outputs": [
    {
     "data": {
      "text/plain": [
       "30"
      ]
     },
     "execution_count": 44,
     "metadata": {},
     "output_type": "execute_result"
    }
   ],
   "source": [
    "multiplicacion\n"
   ]
  },
  {
   "cell_type": "code",
   "execution_count": 45,
   "metadata": {},
   "outputs": [
    {
     "data": {
      "text/plain": [
       "3.3333333333333335"
      ]
     },
     "execution_count": 45,
     "metadata": {},
     "output_type": "execute_result"
    }
   ],
   "source": [
    "division\n"
   ]
  },
  {
   "cell_type": "code",
   "execution_count": 46,
   "metadata": {},
   "outputs": [
    {
     "data": {
      "text/plain": [
       "True"
      ]
     },
     "execution_count": 46,
     "metadata": {},
     "output_type": "execute_result"
    }
   ],
   "source": [
    "# Operadores de comparación\n",
    "a > b\n"
   ]
  },
  {
   "cell_type": "code",
   "execution_count": 47,
   "metadata": {},
   "outputs": [
    {
     "data": {
      "text/plain": [
       "False"
      ]
     },
     "execution_count": 47,
     "metadata": {},
     "output_type": "execute_result"
    }
   ],
   "source": [
    "a == b\n"
   ]
  },
  {
   "cell_type": "markdown",
   "metadata": {},
   "source": [
    " **Ejercicio**: Experimenta con otros operadores como `//` (división entera) y `%` (módulo)."
   ]
  },
  {
   "cell_type": "markdown",
   "metadata": {},
   "source": [
    " ---\n",
    "\n",
    " ### Estructuras de Control Condicionales en Python\n",
    "\n",
    "\n",
    "\n",
    " Las estructuras de control condicionales permiten ejecutar diferentes bloques de código en función de si una condición es verdadera o falsa. En Python, las principales estructuras de control condicionales son `if`, `elif` y `else`."
   ]
  },
  {
   "cell_type": "code",
   "execution_count": 48,
   "metadata": {},
   "outputs": [],
   "source": [
    "edad = 18\n",
    "\n",
    "if edad >= 18:\n",
    "    resultado = \"Eres mayor de edad\"\n",
    "elif edad >= 13:\n",
    "    resultado = \"Eres un adolescente\"\n",
    "else:\n",
    "    resultado = \"Eres un niño\"\n"
   ]
  },
  {
   "cell_type": "code",
   "execution_count": 49,
   "metadata": {},
   "outputs": [
    {
     "data": {
      "text/plain": [
       "'Eres mayor de edad'"
      ]
     },
     "execution_count": 49,
     "metadata": {},
     "output_type": "execute_result"
    }
   ],
   "source": [
    "resultado\n"
   ]
  },
  {
   "cell_type": "markdown",
   "metadata": {},
   "source": [
    " ---\n",
    "\n",
    " ### Bucles (`for`, `while`)\n",
    "\n",
    "\n",
    "\n",
    " En Python, los bucles se utilizan para ejecutar repetidamente un bloque de código mientras se cumple una condición específica."
   ]
  },
  {
   "cell_type": "code",
   "execution_count": 50,
   "metadata": {},
   "outputs": [
    {
     "name": "stdout",
     "output_type": "stream",
     "text": [
      "Número: 0\n",
      "Número: 1\n",
      "Número: 2\n",
      "Número: 3\n",
      "Número: 4\n"
     ]
    }
   ],
   "source": [
    "# Bucle for\n",
    "for i in range(5):\n",
    "    print(\"Número:\", i)\n"
   ]
  },
  {
   "cell_type": "code",
   "execution_count": 51,
   "metadata": {},
   "outputs": [
    {
     "name": "stdout",
     "output_type": "stream",
     "text": [
      "Contador: 0\n",
      "Contador: 1\n",
      "Contador: 2\n",
      "Contador: 3\n",
      "Contador: 4\n"
     ]
    }
   ],
   "source": [
    "# Bucle while\n",
    "contador = 0\n",
    "while contador < 5:\n",
    "    print(\"Contador:\", contador)\n",
    "    contador += 1\n"
   ]
  },
  {
   "cell_type": "markdown",
   "metadata": {},
   "source": [
    " ---\n",
    "\n",
    "\n",
    "\n",
    " ### ¿Qué es una Función y Cómo se Usa?\n",
    "\n",
    "\n",
    "\n",
    " Una función en Python es un bloque de código reutilizable que realiza una tarea específica."
   ]
  },
  {
   "cell_type": "code",
   "execution_count": 52,
   "metadata": {},
   "outputs": [],
   "source": [
    "# Definición de una función\n",
    "def saludo(nombre):\n",
    "    return f\"Hola, {nombre}!\"\n"
   ]
  },
  {
   "cell_type": "code",
   "execution_count": 53,
   "metadata": {},
   "outputs": [
    {
     "data": {
      "text/plain": [
       "'Hola, Carlos!'"
      ]
     },
     "execution_count": 53,
     "metadata": {},
     "output_type": "execute_result"
    }
   ],
   "source": [
    "# Llamada a la función\n",
    "saludo(\"Carlos\")\n"
   ]
  },
  {
   "cell_type": "code",
   "execution_count": 54,
   "metadata": {},
   "outputs": [],
   "source": [
    "def es_par_o_impar(numero):\n",
    "    if numero % 2 == 0:\n",
    "        return \"Par\"\n",
    "    else:\n",
    "        return \"Impar\"\n"
   ]
  },
  {
   "cell_type": "code",
   "execution_count": 55,
   "metadata": {},
   "outputs": [
    {
     "data": {
      "text/plain": [
       "'Par'"
      ]
     },
     "execution_count": 55,
     "metadata": {},
     "output_type": "execute_result"
    }
   ],
   "source": [
    "# Ejemplo de uso\n",
    "es_par_o_impar(10)  # Par\n"
   ]
  },
  {
   "cell_type": "code",
   "execution_count": 56,
   "metadata": {},
   "outputs": [
    {
     "data": {
      "text/plain": [
       "'Impar'"
      ]
     },
     "execution_count": 56,
     "metadata": {},
     "output_type": "execute_result"
    }
   ],
   "source": [
    "es_par_o_impar(3)  # Impar\n"
   ]
  },
  {
   "cell_type": "markdown",
   "metadata": {},
   "source": [
    " ---\n",
    "\n",
    " ### Listas en Python\n",
    "\n",
    "\n",
    "\n",
    " Una lista en Python es una colección ordenada y mutable de elementos."
   ]
  },
  {
   "cell_type": "code",
   "execution_count": 57,
   "metadata": {},
   "outputs": [],
   "source": [
    "# Crear una lista\n",
    "frutas = [\"manzana\", \"banana\", \"cereza\"]\n"
   ]
  },
  {
   "cell_type": "code",
   "execution_count": 58,
   "metadata": {},
   "outputs": [
    {
     "data": {
      "text/plain": [
       "['manzana', 'banana', 'cereza']"
      ]
     },
     "execution_count": 58,
     "metadata": {},
     "output_type": "execute_result"
    }
   ],
   "source": [
    "frutas\n"
   ]
  },
  {
   "cell_type": "markdown",
   "metadata": {},
   "source": [
    " ---\n",
    "\n",
    "\n",
    "\n",
    " ### Funciones y Métodos de Listas en Python\n",
    "\n",
    "\n",
    "\n",
    " Las listas en Python son muy versátiles y vienen con una variedad de funciones y métodos incorporados."
   ]
  },
  {
   "cell_type": "code",
   "execution_count": 59,
   "metadata": {},
   "outputs": [],
   "source": [
    "# Algunos métodos comunes de listas\n",
    "frutas.append(\"naranja\")  # Agrega un elemento al final\n"
   ]
  },
  {
   "cell_type": "code",
   "execution_count": 60,
   "metadata": {},
   "outputs": [
    {
     "data": {
      "text/plain": [
       "['manzana', 'banana', 'cereza', 'naranja']"
      ]
     },
     "execution_count": 60,
     "metadata": {},
     "output_type": "execute_result"
    }
   ],
   "source": [
    "frutas\n"
   ]
  },
  {
   "cell_type": "code",
   "execution_count": 61,
   "metadata": {},
   "outputs": [],
   "source": [
    "frutas.remove(\"banana\")  # Elimina la primera aparición del elemento\n"
   ]
  },
  {
   "cell_type": "code",
   "execution_count": 62,
   "metadata": {},
   "outputs": [
    {
     "data": {
      "text/plain": [
       "['manzana', 'cereza', 'naranja']"
      ]
     },
     "execution_count": 62,
     "metadata": {},
     "output_type": "execute_result"
    }
   ],
   "source": [
    "frutas\n"
   ]
  },
  {
   "cell_type": "code",
   "execution_count": 63,
   "metadata": {},
   "outputs": [
    {
     "data": {
      "text/plain": [
       "3"
      ]
     },
     "execution_count": 63,
     "metadata": {},
     "output_type": "execute_result"
    }
   ],
   "source": [
    "len(frutas)  # Devuelve la longitud de la lista\n"
   ]
  },
  {
   "cell_type": "markdown",
   "metadata": {},
   "source": [
    " ---\n",
    "\n",
    "\n",
    "\n",
    " ### Diccionarios en Python\n",
    "\n",
    "\n",
    "\n",
    " Un diccionario en Python es una colección desordenada, mutable e indexada de pares clave-valor."
   ]
  },
  {
   "cell_type": "code",
   "execution_count": 64,
   "metadata": {},
   "outputs": [],
   "source": [
    "# Crear un diccionario\n",
    "persona = {\"nombre\": \"Carlos\", \"edad\": 30, \"ciudad\": \"Madrid\"}\n"
   ]
  },
  {
   "cell_type": "code",
   "execution_count": 65,
   "metadata": {},
   "outputs": [
    {
     "data": {
      "text/plain": [
       "'Carlos'"
      ]
     },
     "execution_count": 65,
     "metadata": {},
     "output_type": "execute_result"
    }
   ],
   "source": [
    "# Acceder a los valores\n",
    "persona[\"nombre\"]\n"
   ]
  },
  {
   "cell_type": "code",
   "execution_count": 66,
   "metadata": {},
   "outputs": [
    {
     "data": {
      "text/plain": [
       "30"
      ]
     },
     "execution_count": 66,
     "metadata": {},
     "output_type": "execute_result"
    }
   ],
   "source": [
    "persona[\"edad\"]\n"
   ]
  },
  {
   "cell_type": "code",
   "execution_count": 67,
   "metadata": {},
   "outputs": [],
   "source": [
    "# Agregar una nueva clave-valor\n",
    "persona[\"profesion\"] = \"Ingeniero\"\n"
   ]
  },
  {
   "cell_type": "code",
   "execution_count": 68,
   "metadata": {},
   "outputs": [
    {
     "data": {
      "text/plain": [
       "{'nombre': 'Carlos', 'edad': 30, 'ciudad': 'Madrid', 'profesion': 'Ingeniero'}"
      ]
     },
     "execution_count": 68,
     "metadata": {},
     "output_type": "execute_result"
    }
   ],
   "source": [
    "persona\n"
   ]
  },
  {
   "cell_type": "markdown",
   "metadata": {},
   "source": [
    " ---\n",
    "\n",
    " ## Ejercicios Finales"
   ]
  },
  {
   "cell_type": "markdown",
   "metadata": {},
   "source": [
    " **Ejercicio 1**: Escribe una función que tome una lista de números y devuelva el mayor valor de la lista.\n",
    "\n",
    "\n",
    "\n",
    " **Ejercicio 2**: Crea un diccionario que represente un contacto en una agenda (nombre, teléfono, email) y accede a cada valor imprimiéndolo.\n",
    "\n",
    "\n",
    "\n",
    " **Ejercicio 3**: Escribe un programa que genere un saludo personalizado basado en la hora del día (mañana, tarde, noche) usando condicionales."
   ]
  }
 ],
 "metadata": {
  "kernelspec": {
   "display_name": "Python 3",
   "language": "python",
   "name": "python3"
  },
  "language_info": {
   "codemirror_mode": {
    "name": "ipython",
    "version": 3
   },
   "file_extension": ".py",
   "mimetype": "text/x-python",
   "name": "python",
   "nbconvert_exporter": "python",
   "pygments_lexer": "ipython3",
   "version": "3.12.0"
  }
 },
 "nbformat": 4,
 "nbformat_minor": 2
}
