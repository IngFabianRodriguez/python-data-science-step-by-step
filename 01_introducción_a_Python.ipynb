{
 "cells": [
  {
   "cell_type": "markdown",
   "id": "1d948799",
   "metadata": {},
   "source": [
    "# Introducción a Python 🐍\n",
    "\n",
    "¡Bienvenidos a esta primera lección de Python! En esta notebook, exploraremos los conceptos básicos de este lenguaje, desde variables hasta funciones y estructuras de control.\n",
    "\n",
    "Python es un lenguaje de programación versátil, sencillo de aprender y muy utilizado en ciencia de datos, inteligencia artificial, desarrollo web y mucho más.\n"
   ]
  },
  {
   "cell_type": "markdown",
   "id": "293814a2",
   "metadata": {},
   "source": [
    "---\n",
    "\n",
    "## Comentarios en Python\n",
    "\n",
    "Los comentarios en Python son líneas de texto que no se ejecutan como parte del programa. Se utilizan para explicar y documentar el código, lo que facilita su comprensión y mantenimiento. Los comentarios pueden proporcionar contexto sobre lo que hace una sección de código, describir la lógica detrás de una implementación o señalar áreas que requieren atención futura.\n",
    "\n",
    "En Python, los comentarios se crean utilizando el símbolo `#`. Todo lo que sigue a este símbolo en la misma línea se considera un comentario y es ignorado por el intérprete de Python.\n",
    "\n",
    "Ejemplo de comentario en Python:"
   ]
  },
  {
   "cell_type": "code",
   "execution_count": 1,
   "id": "67a36176",
   "metadata": {},
   "outputs": [],
   "source": [
    "# Esto es un comentario en Python.\n",
    "# Los comentarios no son ejecutados y sirven para explicar el código."
   ]
  },
  {
   "cell_type": "markdown",
   "id": "f1eb9ee3",
   "metadata": {},
   "source": [
    "---\n",
    "## Variables y Tipos de Datos"
   ]
  },
  {
   "cell_type": "markdown",
   "id": "639e5d26",
   "metadata": {},
   "source": [
    "Los de datos en Python y proporciona ejemplos de cada uno.\n",
    "\n",
    "En Python, los tipos de datos son categorías de valores que determinan qué operaciones se pueden realizar en esos valores. Aquí hay una descripción de los tipos de datos más comunes en Python:\n",
    "\n",
    "1. **Enteros (int)**: Representan números enteros, positivos o negativos, sin decimales.\n",
    "    ```python\n",
    "    entero = 2023\n",
    "    ```\n",
    "\n",
    "2. **Flotantes (float)**: Representan números reales con punto decimal.\n",
    "    ```python\n",
    "    decimal = 3.14\n",
    "    flotante = 9.81\n",
    "    ```\n",
    "\n",
    "3. **Cadenas de texto (str)**: Representan secuencias de caracteres, como palabras o frases.\n",
    "    ```python\n",
    "    texto = \"Hola, mundo\"\n",
    "    cadena = \"Python es genial\"\n",
    "    ```\n",
    "\n",
    "4. **Booleanos (bool)**: Representan valores de verdad, `True` o `False`.\n",
    "    ```python\n",
    "    es_verdadero = True\n",
    "    booleano = False\n",
    "    ```\n",
    "\n",
    "Estos tipos de datos son fundamentales para la programación en Python y permiten realizar una amplia variedad de operaciones y manipulaciones de datos."
   ]
  },
  {
   "cell_type": "code",
   "execution_count": 2,
   "id": "35eab7f4",
   "metadata": {},
   "outputs": [
    {
     "name": "stdout",
     "output_type": "stream",
     "text": [
      "Hola, mundo\n",
      "42\n",
      "3.14\n",
      "True\n"
     ]
    }
   ],
   "source": [
    "# Variables y asignación\n",
    "texto = \"Hola, mundo\"  # Cadena de texto (string)\n",
    "numero = 42  # Número entero (integer)\n",
    "decimal = 3.14  # Número decimal (float)\n",
    "es_verdadero = True  # Booleano (True o False)\n",
    "\n",
    "# Mostramos los valores\n",
    "print(texto)\n",
    "print(numero)\n",
    "print(decimal)\n",
    "print(es_verdadero)"
   ]
  },
  {
   "cell_type": "markdown",
   "id": "22988c1e",
   "metadata": {
    "vscode": {
     "languageId": "markdown"
    }
   },
   "source": [
    "---\n",
    "\n",
    "## Operadores Básicos en Python\n",
    "\n",
    "En Python, los operadores son símbolos que se utilizan para realizar operaciones sobre valores y variables. A continuación, se presentan los operadores básicos más comunes en Python:\n",
    "\n",
    "---\n",
    "\n",
    "### Operadores Aritméticos\n",
    "\n",
    "Estos operadores se utilizan para realizar operaciones matemáticas básicas:\n",
    "\n",
    "*a = 10*\n",
    "\n",
    "*b = 3*\n",
    "\n",
    "- `+` (Suma): Suma dos valores.\n",
    "    ```python\n",
    "    suma = a + b  # Resultado: 13\n",
    "    ```\n",
    "\n",
    "- `-` (Resta): Resta el segundo valor del primero.\n",
    "    ```python\n",
    "    resta = a - b  # Resultado: 7\n",
    "    ```\n",
    "\n",
    "- `*` (Multiplicación): Multiplica dos valores.\n",
    "    ```python\n",
    "    multiplicacion = a * b  # Resultado: 30\n",
    "    ```\n",
    "\n",
    "- `/` (División): Divide el primer valor por el segundo.\n",
    "    ```python\n",
    "    division = a / b  # Resultado: 3.3333333333333335\n",
    "    ```\n",
    "\n",
    "- `//` (División Entera): Divide el primer valor por el segundo y devuelve la parte entera del resultado.\n",
    "    ```python\n",
    "    division_entera = a // b  # Resultado: 3\n",
    "    ```\n",
    "\n",
    "- `%` (Módulo): Devuelve el resto de la división del primer valor por el segundo.\n",
    "    ```python\n",
    "    modulo = a % b  # Resultado: 1\n",
    "    ```\n",
    "\n",
    "- `**` (Potencia): Eleva el primer valor a la potencia del segundo.\n",
    "    ```python\n",
    "    potencia = a ** b  # Resultado: 1000\n",
    "    ```\n",
    "---\n",
    "\n",
    "### Operadores de Comparación\n",
    "\n",
    "Estos operadores se utilizan para comparar dos valores y devuelven un valor booleano (`True` o `False`):\n",
    "\n",
    "- `==` (Igual a): Devuelve `True` si ambos valores son iguales.\n",
    "    ```python\n",
    "    es_igual = (a == b)  # Resultado: False\n",
    "    ```\n",
    "\n",
    "- `!=` (Distinto de): Devuelve `True` si los valores son diferentes.\n",
    "    ```python\n",
    "    es_distinto = (a != b)  # Resultado: True\n",
    "    ```\n",
    "\n",
    "- `>` (Mayor que): Devuelve `True` si el primer valor es mayor que el segundo.\n",
    "    ```python\n",
    "    es_mayor = (a > b)  # Resultado: True\n",
    "    ```\n",
    "\n",
    "- `<` (Menor que): Devuelve `True` si el primer valor es menor que el segundo.\n",
    "    ```python\n",
    "    es_menor = (a < b)  # Resultado: False\n",
    "    ```\n",
    "\n",
    "- `>=` (Mayor o igual que): Devuelve `True` si el primer valor es mayor o igual que el segundo.\n",
    "    ```python\n",
    "    es_mayor_igual = (a >= b)  # Resultado: True\n",
    "    ```\n",
    "\n",
    "- `<=` (Menor o igual que): Devuelve `True` si el primer valor es menor o igual que el segundo.\n",
    "    ```python\n",
    "    es_menor_igual = (a <= b)  # Resultado: False\n",
    "    ```\n",
    "\n"
   ]
  },
  {
   "cell_type": "markdown",
   "id": "fb62bc72",
   "metadata": {},
   "source": []
  },
  {
   "cell_type": "code",
   "execution_count": 3,
   "id": "ad02a398",
   "metadata": {},
   "outputs": [
    {
     "name": "stdout",
     "output_type": "stream",
     "text": [
      "Suma: 13\n",
      "Resta: 7\n",
      "Multiplicación: 30\n",
      "División: 3.3333333333333335\n",
      "¿Es 'a' mayor que 'b'? True\n",
      "¿Es 'a' igual a 'b'? False\n"
     ]
    }
   ],
   "source": [
    "# Operadores aritméticos\n",
    "a = 10\n",
    "b = 3\n",
    "\n",
    "suma = a + b\n",
    "resta = a - b\n",
    "multiplicacion = a * b\n",
    "division = a / b\n",
    "\n",
    "print(\"Suma:\", suma)\n",
    "print(\"Resta:\", resta)\n",
    "print(\"Multiplicación:\", multiplicacion)\n",
    "print(\"División:\", division)\n",
    "\n",
    "# Operadores de comparación\n",
    "print(\"¿Es 'a' mayor que 'b'?\", a > b)\n",
    "print(\"¿Es 'a' igual a 'b'?\", a == b)"
   ]
  },
  {
   "cell_type": "markdown",
   "id": "b4347b33",
   "metadata": {},
   "source": [
    "**Ejercicio**: Experimenta con otros operadores como `//` (división entera) y `%` (módulo)."
   ]
  },
  {
   "cell_type": "markdown",
   "id": "087404f5",
   "metadata": {
    "vscode": {
     "languageId": "markdown"
    }
   },
   "source": [
    "---\n",
    "### Estructuras de Control Condicionales en Python\n",
    "\n",
    "Las estructuras de control condicionales permiten ejecutar diferentes bloques de código en función de si una condición es verdadera o falsa. En Python, las principales estructuras de control condicionales son `if`, `elif` y `else`.\n",
    "\n",
    "---\n",
    "\n",
    "#### `if`\n",
    "\n",
    "La sentencia `if` evalúa una condición y, si es verdadera, ejecuta el bloque de código correspondiente.\n"
   ]
  },
  {
   "cell_type": "code",
   "execution_count": 4,
   "id": "3f6259bb",
   "metadata": {},
   "outputs": [
    {
     "name": "stdout",
     "output_type": "stream",
     "text": [
      "Eres mayor de edad\n"
     ]
    }
   ],
   "source": [
    "edad = 18\n",
    "\n",
    "if edad >= 18:\n",
    "    print(\"Eres mayor de edad\")\n",
    "elif edad >= 13:\n",
    "    print(\"Eres un adolescente\")\n",
    "else:\n",
    "    print(\"Eres un niño\")"
   ]
  },
  {
   "cell_type": "markdown",
   "id": "ec7185c1",
   "metadata": {
    "vscode": {
     "languageId": "markdown"
    }
   },
   "source": [
    "---\n",
    "### Bucles (`for`, `while`)\n",
    "\n",
    "En Python, los bucles se utilizan para ejecutar repetidamente un bloque de código mientras se cumple una condición específica. Los dos tipos principales de bucles en Python son `for` y `while`.\n",
    "\n",
    "---\n",
    "#### Bucle `for`\n",
    "\n",
    "El bucle `for` se utiliza para iterar sobre una secuencia (como una lista, una tupla, un diccionario, un conjunto o una cadena). En cada iteración, el bucle toma el siguiente elemento de la secuencia y ejecuta el bloque de código correspondiente.\n",
    "\n",
    "Ejemplo de bucle `for`:"
   ]
  },
  {
   "cell_type": "code",
   "execution_count": 5,
   "id": "233beed1",
   "metadata": {},
   "outputs": [
    {
     "name": "stdout",
     "output_type": "stream",
     "text": [
      "Número: 0\n",
      "Número: 1\n",
      "Número: 2\n",
      "Número: 3\n",
      "Número: 4\n",
      "Contador: 0\n",
      "Contador: 1\n",
      "Contador: 2\n",
      "Contador: 3\n",
      "Contador: 4\n"
     ]
    }
   ],
   "source": [
    "# Bucle for\n",
    "for i in range(5):\n",
    "    print(\"Número:\", i)\n",
    "\n",
    "# Bucle while\n",
    "contador = 0\n",
    "while contador < 5:\n",
    "    print(\"Contador:\", contador)\n",
    "    contador += 1"
   ]
  },
  {
   "cell_type": "markdown",
   "id": "73824b86",
   "metadata": {
    "vscode": {
     "languageId": "markdown"
    }
   },
   "source": [
    "---\n",
    "\n",
    "### Bucle `while`\n",
    "\n",
    "El bucle `while` en Python se utiliza para ejecutar repetidamente un bloque de código mientras se cumpla una condición específica. La condición se evalúa antes de cada iteración del bucle, y si la condición es `True`, el bloque de código se ejecuta. El bucle continúa ejecutándose hasta que la condición se evalúa como `False`.\n",
    "\n",
    "La sintaxis básica de un bucle `while` es la siguiente:\n"
   ]
  },
  {
   "cell_type": "code",
   "execution_count": 6,
   "id": "1f749545",
   "metadata": {},
   "outputs": [
    {
     "name": "stdout",
     "output_type": "stream",
     "text": [
      "Contador: 0\n",
      "Contador: 1\n",
      "Contador: 2\n",
      "Contador: 3\n",
      "Contador: 4\n"
     ]
    }
   ],
   "source": [
    "# Ejemplo de bucle while\n",
    "contador = 0\n",
    "\n",
    "while contador < 5:\n",
    "    print(\"Contador:\", contador)\n",
    "    contador += 1"
   ]
  },
  {
   "cell_type": "markdown",
   "id": "23defa2e",
   "metadata": {
    "vscode": {
     "languageId": "markdown"
    }
   },
   "source": [
    "---\n",
    "\n",
    "### ¿Qué es una Función y Cómo se Usa?\n",
    "\n",
    "Una función en Python es un bloque de código reutilizable que realiza una tarea específica. Las funciones permiten organizar el código en módulos más pequeños y manejables, lo que facilita su lectura, mantenimiento y reutilización.\n",
    "\n",
    "---\n",
    "#### Definición de una Función\n",
    "\n",
    "Para definir una función en Python, se utiliza la palabra clave `def`, seguida del nombre de la función y paréntesis `()`. Dentro de los paréntesis, se pueden incluir parámetros que la función puede recibir como entrada. El bloque de código de la función debe estar indentado.\n"
   ]
  },
  {
   "cell_type": "code",
   "execution_count": 7,
   "id": "64901fce",
   "metadata": {},
   "outputs": [
    {
     "name": "stdout",
     "output_type": "stream",
     "text": [
      "Hola, Carlos!\n"
     ]
    }
   ],
   "source": [
    "# Definición de una función\n",
    "def saludo(nombre):\n",
    "    return f\"Hola, {nombre}!\"\n",
    "\n",
    "\n",
    "# Llamada a la función\n",
    "print(saludo(\"Carlos\"))"
   ]
  },
  {
   "cell_type": "code",
   "execution_count": null,
   "id": "36a118b8",
   "metadata": {},
   "outputs": [
    {
     "name": "stdout",
     "output_type": "stream",
     "text": [
      "Par\n",
      "Impar\n"
     ]
    }
   ],
   "source": [
    "def es_par_o_impar(numero):\n",
    "    if numero % 2 == 0:\n",
    "        return \"Par\"\n",
    "    else:\n",
    "        return \"Impar\"\n",
    "\n",
    "\n",
    "# Ejemplo de uso\n",
    "print(es_par_o_impar(10))  # Par\n",
    "print(es_par_o_impar(3))  # Impar"
   ]
  },
  {
   "cell_type": "markdown",
   "id": "b3ec2212",
   "metadata": {
    "vscode": {
     "languageId": "markdown"
    }
   },
   "source": [
    "---\n",
    "### Listas en Python\n",
    "\n",
    "Una lista en Python es una colección ordenada y mutable de elementos. Las listas son uno de los tipos de datos más versátiles y utilizados en Python, ya que permiten almacenar múltiples elementos en una sola variable. Los elementos de una lista pueden ser de cualquier tipo de datos, incluyendo números, cadenas de texto, otros objetos e incluso otras listas.\n",
    "\n",
    "---\n",
    "#### Características de las Listas:\n",
    "- **Ordenadas**: Los elementos de una lista mantienen el orden en el que fueron añadidos.\n",
    "- **Mutables**: Los elementos de una lista pueden ser modificados después de su creación.\n",
    "- **Indexadas**: Los elementos de una lista pueden ser accedidos mediante índices, comenzando desde 0 para el primer elemento.\n",
    "\n",
    "#### Sintaxis para Crear una Lista:\n",
    "Para crear una lista, se utilizan corchetes `[]` y se separan los elementos por comas.\n"
   ]
  },
  {
   "cell_type": "code",
   "execution_count": 9,
   "id": "249d4830",
   "metadata": {},
   "outputs": [
    {
     "name": "stdout",
     "output_type": "stream",
     "text": [
      "['manzana', 'banana', 'cereza']\n"
     ]
    }
   ],
   "source": [
    "# Crear una lista\n",
    "frutas = [\"manzana\", \"banana\", \"cereza\"]\n",
    "\n",
    "print(frutas)"
   ]
  },
  {
   "cell_type": "markdown",
   "id": "6f07de71",
   "metadata": {
    "vscode": {
     "languageId": "markdown"
    }
   },
   "source": [
    "---\n",
    "\n",
    "### Funciones y Métodos de Listas en Python\n",
    "\n",
    "Las listas en Python son muy versátiles y vienen con una variedad de funciones y métodos incorporados que permiten realizar diversas operaciones sobre ellas. A continuación, se describen algunas de las funciones y métodos más comunes que se pueden utilizar con listas:\n",
    "\n",
    "\n",
    "---\n",
    "#### Funciones Comunes:\n",
    "\n",
    "1. **len()**: Devuelve la longitud (número de elementos) de la lista.\n",
    "    ```python\n",
    "    longitud = len(frutas)  # Resultado: 3\n",
    "    ```\n",
    "\n",
    "2. **max()**: Devuelve el elemento con el valor máximo en la lista.\n",
    "    ```python\n",
    "    maximo = max([1, 2, 3, 4, 5])  # Resultado: 5\n",
    "    ```\n",
    "\n",
    "3. **min()**: Devuelve el elemento con el valor mínimo en la lista.\n",
    "    ```python\n",
    "    minimo = min([1, 2, 3, 4, 5])  # Resultado: 1\n",
    "    ```\n",
    "\n",
    "4. **sum()**: Devuelve la suma de todos los elementos en la lista.\n",
    "    ```python\n",
    "    suma_total = sum([1, 2, 3, 4, 5])  # Resultado: 15\n",
    "    ```\n",
    "\n",
    "---\n",
    "#### Métodos de Listas:\n",
    "\n",
    "1. **append()**: Agrega un elemento al final de la lista.\n",
    "    ```python\n",
    "    frutas.append(\"naranja\")\n",
    "    ```\n",
    "\n",
    "2. **insert()**: Inserta un elemento en una posición específica de la lista.\n",
    "    ```python\n",
    "    frutas.insert(1, \"kiwi\")\n",
    "    ```\n",
    "\n",
    "3. **remove()**: Elimina la primera aparición de un elemento en la lista.\n",
    "    ```python\n",
    "    frutas.remove(\"banana\")\n",
    "    ```\n",
    "\n",
    "4. **pop()**: Elimina y devuelve el elemento en la posición especificada. Si no se especifica una posición, elimina y devuelve el último elemento.\n",
    "    ```python\n",
    "    ultimo = frutas.pop()  # Elimina y devuelve \"cereza\"\n",
    "    ```\n",
    "\n",
    "5. **clear()**: Elimina todos los elementos de la lista.\n",
    "    ```python\n",
    "    frutas.clear()\n",
    "    ```\n",
    "\n",
    "6. **index()**: Devuelve el índice de la primera aparición de un elemento en la lista.\n",
    "    ```python\n",
    "    indice = frutas.index(\"manzana\")  # Resultado: 0\n",
    "    ```\n",
    "\n",
    "7. **count()**: Devuelve el número de veces que un elemento aparece en la lista.\n",
    "    ```python\n",
    "    conteo = frutas.count(\"manzana\")  # Resultado: 1\n",
    "    ```\n",
    "\n",
    "8. **sort()**: Ordena los elementos de la lista en orden ascendente. Se puede utilizar el parámetro `reverse=True` para ordenar en orden descendente.\n",
    "    ```python\n",
    "    frutas.sort()\n",
    "    frutas.sort(reverse=True)\n",
    "    ```\n",
    "\n",
    "9. **reverse()**: Invierte el orden de los elementos en la lista.\n",
    "    ```python\n",
    "    frutas.reverse()\n",
    "    ```\n",
    "\n",
    "Estas funciones y métodos permiten manipular y trabajar con listas de manera eficiente y flexible en Python."
   ]
  },
  {
   "cell_type": "markdown",
   "id": "88be987c",
   "metadata": {
    "vscode": {
     "languageId": "markdown"
    }
   },
   "source": [
    "---\n",
    "\n",
    "### Diccionarios en Python\n",
    "\n",
    "Un diccionario en Python es una colección desordenada, mutable e indexada de pares clave-valor. Los diccionarios son útiles para almacenar datos que se relacionan entre sí, como la información de un contacto (nombre, teléfono, email) o las propiedades de un objeto.\n",
    "\n",
    "---\n",
    "\n",
    "#### Características de los Diccionarios:\n",
    "- **Desordenados**: Los elementos de un diccionario no tienen un orden específico.\n",
    "- **Mutables**: Los elementos de un diccionario pueden ser modificados después de su creación.\n",
    "- **Indexados por Claves**: Los elementos de un diccionario se acceden mediante claves únicas.\n",
    "\n",
    "#### Sintaxis para Crear un Diccionario:\n",
    "Para crear un diccionario, se utilizan llaves `{}` y se separan los pares clave-valor por comas. Cada clave se separa de su valor correspondiente por dos puntos `:`."
   ]
  },
  {
   "cell_type": "code",
   "execution_count": 10,
   "id": "23d7211c",
   "metadata": {},
   "outputs": [
    {
     "name": "stdout",
     "output_type": "stream",
     "text": [
      "Carlos\n",
      "30\n",
      "{'nombre': 'Carlos', 'edad': 30, 'ciudad': 'Madrid', 'profesion': 'Ingeniero'}\n"
     ]
    }
   ],
   "source": [
    "# Crear un diccionario\n",
    "persona = {\"nombre\": \"Carlos\", \"edad\": 30, \"ciudad\": \"Madrid\"}\n",
    "\n",
    "# Acceder a los valores\n",
    "print(persona[\"nombre\"])\n",
    "print(persona[\"edad\"])\n",
    "\n",
    "# Agregar una nueva clave-valor\n",
    "persona[\"profesion\"] = \"Ingeniero\"\n",
    "print(persona)"
   ]
  },
  {
   "cell_type": "markdown",
   "id": "a85eef41",
   "metadata": {
    "vscode": {
     "languageId": "markdown"
    }
   },
   "source": [
    "---\n",
    "\n",
    "### Funciones y Métodos de Diccionarios en Python\n",
    "\n",
    "Los diccionarios en Python son estructuras de datos muy versátiles que permiten almacenar pares clave-valor. A continuación, se describen algunas de las funciones y métodos más comunes que se pueden utilizar con diccionarios:\n",
    "\n",
    "---\n",
    "#### Funciones Comunes:\n",
    "\n",
    "1. **len()**: Devuelve el número de pares clave-valor en el diccionario.\n",
    "    ```python\n",
    "    longitud = len(persona)  # Resultado: 4\n",
    "    ```\n",
    "\n",
    "2. **dict()**: Crea un nuevo diccionario.\n",
    "    ```python\n",
    "    nuevo_diccionario = dict(nombre=\"Ana\", edad=25)\n",
    "    ```\n",
    "\n",
    "---\n",
    "\n",
    "#### Métodos de Diccionarios:\n",
    "\n",
    "1. **keys()**: Devuelve una vista de las claves en el diccionario.\n",
    "    ```python\n",
    "    claves = persona.keys()  # Resultado: dict_keys(['nombre', 'edad', 'ciudad', 'profesion'])\n",
    "    ```\n",
    "\n",
    "2. **values()**: Devuelve una vista de los valores en el diccionario.\n",
    "    ```python\n",
    "    valores = persona.values()  # Resultado: dict_values(['Carlos', 30, 'Madrid', 'Ingeniero'])\n",
    "    ```\n",
    "\n",
    "3. **items()**: Devuelve una vista de los pares clave-valor en el diccionario.\n",
    "    ```python\n",
    "    items = persona.items()  # Resultado: dict_items([('nombre', 'Carlos'), ('edad', 30), ('ciudad', 'Madrid'), ('profesion', 'Ingeniero')])\n",
    "    ```\n",
    "\n",
    "4. **get()**: Devuelve el valor asociado con una clave. Si la clave no existe, devuelve un valor predeterminado (por defecto, `None`).\n",
    "    ```python\n",
    "    profesion = persona.get(\"profesion\")  # Resultado: 'Ingeniero'\n",
    "    ```\n",
    "\n",
    "5. **update()**: Actualiza el diccionario con los pares clave-valor de otro diccionario o de un iterable de pares clave-valor.\n",
    "    ```python\n",
    "    persona.update({\"telefono\": \"123456789\"})\n",
    "    ```\n",
    "\n",
    "6. **pop()**: Elimina la clave especificada y devuelve su valor. Si la clave no existe, devuelve un valor predeterminado (por defecto, lanza un error).\n",
    "    ```python\n",
    "    ciudad = persona.pop(\"ciudad\")  # Resultado: 'Madrid'\n",
    "    ```\n",
    "\n",
    "7. **popitem()**: Elimina y devuelve el último par clave-valor insertado en el diccionario.\n",
    "    ```python\n",
    "    ultimo_item = persona.popitem()  # Resultado: ('telefono', '123456789')\n",
    "    ```\n",
    "\n",
    "8. **clear()**: Elimina todos los elementos del diccionario.\n",
    "    ```python\n",
    "    persona.clear()\n",
    "    ```\n",
    "\n",
    "9. **copy()**: Devuelve una copia superficial del diccionario.\n",
    "    ```python\n",
    "    copia_persona = persona.copy()\n",
    "    ```\n",
    "\n",
    "10. **setdefault()**: Devuelve el valor de una clave si existe. Si no, inserta la clave con un valor predeterminado y devuelve ese valor.\n",
    "    ```python\n",
    "    profesion = persona.setdefault(\"profesion\", \"Desconocido\")  # Resultado: 'Ingeniero'\n",
    "    ```\n",
    "\n",
    "Estas funciones y métodos permiten manipular y trabajar con diccionarios de manera eficiente y flexible en Python."
   ]
  },
  {
   "cell_type": "markdown",
   "id": "5f09bbe1",
   "metadata": {},
   "source": [
    "---\n",
    "## Ejercicios Finales"
   ]
  },
  {
   "cell_type": "markdown",
   "id": "bbdb5254",
   "metadata": {},
   "source": [
    "**Ejercicio 1**: Escribe una función que tome una lista de números y devuelva el mayor valor de la lista.\n",
    "\n",
    "**Ejercicio 2**: Crea un diccionario que represente un contacto en una agenda (nombre, teléfono, email) y accede a cada valor imprimiéndolo.\n",
    "\n",
    "**Ejercicio 3**: Escribe un programa que genere un saludo personalizado basado en la hora del día (mañana, tarde, noche) usando condicionales."
   ]
  }
 ],
 "metadata": {
  "kernelspec": {
   "display_name": "Python 3",
   "language": "python",
   "name": "python3"
  },
  "language_info": {
   "codemirror_mode": {
    "name": "ipython",
    "version": 3
   },
   "file_extension": ".py",
   "mimetype": "text/x-python",
   "name": "python",
   "nbconvert_exporter": "python",
   "pygments_lexer": "ipython3",
   "version": "3.12.0"
  }
 },
 "nbformat": 4,
 "nbformat_minor": 5
}
