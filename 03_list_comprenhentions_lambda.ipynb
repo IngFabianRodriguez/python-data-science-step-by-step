{
 "cells": [
  {
   "cell_type": "markdown",
   "metadata": {},
   "source": [
    " # Comprensión de Listas, Generadores y Expresiones Lambda en Python\n",
    "\n",
    "\n",
    "\n",
    " En esta lección, vamos a profundizar en tres conceptos avanzados pero fundamentales en Python:\n",
    "\n",
    " **comprensión de listas**, **generadores** y **expresiones lambda**. Estos conceptos permiten escribir código más conciso, eficiente y, en ocasiones, más fácil de entender.\n",
    "\n",
    "\n",
    "\n",
    " 1. **Comprensión de Listas**: Una forma compacta de construir listas.\n",
    "\n",
    " 2. **Generadores**: Estructuras que permiten iterar sobre grandes conjuntos de datos sin cargar todo en memoria.\n",
    "\n",
    " 3. **Expresiones Lambda**: Funciones anónimas que pueden definirse en una sola línea.\n",
    "\n",
    "\n",
    "\n",
    " ### Objetivos\n",
    "\n",
    " - Entender y aplicar comprensiones de listas para transformar y filtrar datos.\n",
    "\n",
    " - Crear generadores para manejar grandes cantidades de datos de forma eficiente.\n",
    "\n",
    " - Utilizar expresiones lambda en operaciones de orden superior."
   ]
  },
  {
   "cell_type": "markdown",
   "metadata": {},
   "source": [
    " ---\n",
    "\n",
    " ## Comprensión de Listas (List Comprehensions)\n",
    "\n",
    "\n",
    "\n",
    " La comprensión de listas es una forma elegante y concisa de crear nuevas listas en Python. Permite transformar o filtrar datos de forma sencilla sin necesidad de escribir bucles `for` tradicionales.\n",
    "\n",
    "\n",
    "\n",
    " ### Sintaxis:\n",
    "\n",
    " ```python\n",
    "\n",
    " nueva_lista = [expresión for elemento in iterable if condición]\n",
    "\n",
    " ```\n",
    "\n",
    " - `expresión`: Expresión que se evaluará para cada elemento.\n",
    "\n",
    " - `elemento`: Nombre temporal para cada elemento en el iterable.\n",
    "\n",
    " - `iterable`: Cualquier secuencia o colección sobre la que queremos iterar (listas, tuplas, etc.).\n",
    "\n",
    " - `condición` (opcional): Un filtro para incluir sólo ciertos elementos.\n",
    "\n",
    "\n",
    "\n",
    " ### Ejemplo básico: Crear una lista con el cuadrado de los números del 1 al 10"
   ]
  },
  {
   "cell_type": "code",
   "execution_count": 1,
   "metadata": {},
   "outputs": [
    {
     "name": "stdout",
     "output_type": "stream",
     "text": [
      "Usando for: [1, 4, 9, 16, 25, 36, 49, 64, 81, 100]\n",
      "Usando comprensión de listas: [1, 4, 9, 16, 25, 36, 49, 64, 81, 100]\n"
     ]
    }
   ],
   "source": [
    "# Usando un bucle for tradicional\n",
    "cuadrados = []\n",
    "for i in range(1, 11):\n",
    "    cuadrados.append(i**2)\n",
    "print(\"Usando for:\", cuadrados)\n",
    "\n",
    "# Usando comprensión de listas\n",
    "cuadrados_comprension = [i**2 for i in range(1, 11)]\n",
    "print(\"Usando comprensión de listas:\", cuadrados_comprension)"
   ]
  },
  {
   "cell_type": "markdown",
   "metadata": {},
   "source": [
    " ### Filtrar elementos en Comprensiones de Listas\n",
    "\n",
    "\n",
    "\n",
    " Podemos agregar una condición para incluir sólo aquellos elementos que cumplan con ciertos requisitos. Por ejemplo, crear una lista con los cuadrados de sólo los números pares entre 1 y 10."
   ]
  },
  {
   "cell_type": "code",
   "execution_count": 2,
   "metadata": {},
   "outputs": [
    {
     "name": "stdout",
     "output_type": "stream",
     "text": [
      "Cuadrados de números pares: [4, 16, 36, 64, 100]\n"
     ]
    }
   ],
   "source": [
    "# Solo cuadrados de números pares\n",
    "cuadrados_pares = [i**2 for i in range(1, 11) if i % 2 == 0]\n",
    "print(\"Cuadrados de números pares:\", cuadrados_pares)"
   ]
  },
  {
   "cell_type": "markdown",
   "metadata": {},
   "source": [
    " ---\n",
    "\n",
    " ## Generadores en Python\n",
    "\n",
    "\n",
    "\n",
    " Un **generador** es una forma de crear una secuencia de valores de manera **\"perezosa\"** (lazy), es decir, que no calcula todos los valores de una vez, sino uno por uno cuando se solicita. Esto hace que los generadores sean muy útiles para trabajar con grandes cantidades de datos, ya que no ocupan memoria hasta que se necesite un valor.\n",
    "\n",
    "\n",
    "\n",
    " ### Creación de Generadores\n",
    "\n",
    " Los generadores se pueden crear utilizando:\n",
    "\n",
    " - **Comprensión de generadores**: Similar a la comprensión de listas, pero usando paréntesis `()` en lugar de corchetes `[]`.\n",
    "\n",
    " - **Función `yield`**: Permite convertir una función en un generador.\n",
    "\n",
    "\n",
    "\n",
    " ### Ejemplo 1: Generador con comprensión"
   ]
  },
  {
   "cell_type": "code",
   "execution_count": 3,
   "metadata": {},
   "outputs": [
    {
     "name": "stdout",
     "output_type": "stream",
     "text": [
      "Cuadrado 1: 1\n",
      "Cuadrado 2: 4\n",
      "Resto de valores: [9, 16, 25, 36, 49, 64, 81, 100]\n"
     ]
    }
   ],
   "source": [
    "# Generador para obtener los cuadrados de los números del 1 al 10\n",
    "cuadrados_generador = (i**2 for i in range(1, 11))\n",
    "\n",
    "# Accedemos a los valores del generador uno por uno\n",
    "print(\"Cuadrado 1:\", next(cuadrados_generador))\n",
    "print(\"Cuadrado 2:\", next(cuadrados_generador))\n",
    "print(\"Resto de valores:\", list(cuadrados_generador))"
   ]
  },
  {
   "cell_type": "markdown",
   "metadata": {},
   "source": [
    " ### Ejemplo 2: Generador con `yield`\n",
    "\n",
    "\n",
    "\n",
    " Al usar `yield`, la función se convierte en un generador y `yield` permite retener el estado para continuar en la siguiente iteración cuando se vuelve a llamar."
   ]
  },
  {
   "cell_type": "code",
   "execution_count": 4,
   "metadata": {},
   "outputs": [
    {
     "name": "stdout",
     "output_type": "stream",
     "text": [
      "Generador de cuadrados con yield:\n",
      "1\n",
      "4\n",
      "9\n",
      "16\n",
      "25\n"
     ]
    }
   ],
   "source": [
    "def generador_cuadrados(n):\n",
    "    for i in range(1, n + 1):\n",
    "        yield i**2\n",
    "\n",
    "\n",
    "# Creamos un generador para los cuadrados del 1 al 5\n",
    "cuadrados = generador_cuadrados(5)\n",
    "print(\"Generador de cuadrados con yield:\")\n",
    "for cuadrado in cuadrados:\n",
    "    print(cuadrado)"
   ]
  },
  {
   "cell_type": "markdown",
   "metadata": {},
   "source": [
    " ---\n",
    "\n",
    " ## Expresiones Lambda (Funciones Anónimas)\n",
    "\n",
    "\n",
    "\n",
    " Las **expresiones lambda** son funciones anónimas en Python que se definen en una sola línea. Son útiles cuando necesitamos una función rápida y sencilla sin la necesidad de crear una función completa con `def`.\n",
    "\n",
    "\n",
    "\n",
    " ### Sintaxis:\n",
    "\n",
    " ```python\n",
    "\n",
    " lambda argumentos: expresión\n",
    "\n",
    " ```\n",
    "\n",
    " - `argumentos`: Parámetros que recibe la función lambda.\n",
    "\n",
    " - `expresión`: Código que será evaluado y devuelto.\n",
    "\n",
    "\n",
    "\n",
    " ### Ejemplo básico de lambda"
   ]
  },
  {
   "cell_type": "code",
   "execution_count": 5,
   "metadata": {},
   "outputs": [
    {
     "name": "stdout",
     "output_type": "stream",
     "text": [
      "Suma 10 a 5: 15\n",
      "Multiplicación 3 x 4: 12\n"
     ]
    }
   ],
   "source": [
    "# Función lambda que suma 10 a un número\n",
    "sumar_diez = lambda x: x + 10\n",
    "print(\"Suma 10 a 5:\", sumar_diez(5))\n",
    "\n",
    "# Función lambda que multiplica dos números\n",
    "multiplicar = lambda a, b: a * b\n",
    "print(\"Multiplicación 3 x 4:\", multiplicar(3, 4))"
   ]
  },
  {
   "cell_type": "markdown",
   "metadata": {},
   "source": [
    " ### Lambda con Funciones de Orden Superior\n",
    "\n",
    "\n",
    "\n",
    " Las funciones lambda son especialmente útiles con **funciones de orden superior**, como `map()`, `filter()`, y `reduce()`. Estas funciones permiten aplicar una operación a todos los elementos de una lista o colección de manera compacta.\n",
    "\n",
    "\n",
    "\n",
    " - **`map(función, iterable)`**: Aplica una función a cada elemento del iterable.\n",
    "\n",
    " - **`filter(función, iterable)`**: Filtra los elementos del iterable que cumplen la condición de la función.\n",
    "\n",
    " - **`reduce(función, iterable)`** (requiere importar `functools`): Aplica una función de forma acumulativa a los elementos.\n",
    "\n",
    "\n",
    "\n",
    " ### Ejemplo de uso de lambda con `map`, `filter` y `reduce`"
   ]
  },
  {
   "cell_type": "code",
   "execution_count": 6,
   "metadata": {},
   "outputs": [
    {
     "name": "stdout",
     "output_type": "stream",
     "text": [
      "Cuadrados con map y lambda: [1, 4, 9, 16, 25]\n",
      "Números pares con filter y lambda: [2, 4]\n",
      "Suma total con reduce y lambda: 15\n"
     ]
    }
   ],
   "source": [
    "from functools import reduce\n",
    "\n",
    "# Ejemplo con map\n",
    "numeros = [1, 2, 3, 4, 5]\n",
    "cuadrados = list(map(lambda x: x**2, numeros))\n",
    "print(\"Cuadrados con map y lambda:\", cuadrados)\n",
    "\n",
    "# Ejemplo con filter\n",
    "numeros_pares = list(filter(lambda x: x % 2 == 0, numeros))\n",
    "print(\"Números pares con filter y lambda:\", numeros_pares)\n",
    "\n",
    "# Ejemplo con reduce\n",
    "suma_total = reduce(lambda x, y: x + y, numeros)\n",
    "print(\"Suma total con reduce y lambda:\", suma_total)"
   ]
  },
  {
   "cell_type": "markdown",
   "metadata": {},
   "source": [
    " ---\n",
    "\n",
    " ## Ejercicio: Comprensiones, Generadores y Lambda\n",
    "\n",
    "\n",
    "\n",
    " 1. **Comprensión de Lista**: Crea una lista con los cubos de los números del 1 al 10.\n",
    "\n",
    " 2. **Generador**: Define un generador que devuelva los números de la secuencia Fibonacci hasta un número límite dado.\n",
    "\n",
    " 3. **Expresión Lambda**: Utiliza una expresión lambda para ordenar una lista de tuplas basada en el segundo elemento de cada tupla.\n",
    "\n",
    "\n",
    "\n",
    " ### Soluciones de referencia:"
   ]
  },
  {
   "cell_type": "code",
   "execution_count": 7,
   "metadata": {},
   "outputs": [
    {
     "name": "stdout",
     "output_type": "stream",
     "text": [
      "Cubos de 1 a 10: [1, 8, 27, 64, 125, 216, 343, 512, 729, 1000]\n",
      "Fibonacci hasta 20:\n",
      "0\n",
      "1\n",
      "1\n",
      "2\n",
      "3\n",
      "5\n",
      "8\n",
      "13\n",
      "Lista de tuplas ordenada por segundo elemento: [(2, 'a'), (1, 'b'), (3, 'c')]\n"
     ]
    }
   ],
   "source": [
    "# Ejercicio 1: Comprensión de lista\n",
    "cubos = [i**3 for i in range(1, 11)]\n",
    "print(\"Cubos de 1 a 10:\", cubos)\n",
    "\n",
    "\n",
    "# Ejercicio 2: Generador de Fibonacci\n",
    "def fibonacci(limite):\n",
    "    a, b = 0, 1\n",
    "    while a <= limite:\n",
    "        yield a\n",
    "        a, b = b, a + b\n",
    "\n",
    "\n",
    "print(\"Fibonacci hasta 20:\")\n",
    "for num in fibonacci(20):\n",
    "    print(num)\n",
    "\n",
    "# Ejercicio 3: Ordenar lista de tuplas\n",
    "tuplas = [(1, \"b\"), (2, \"a\"), (3, \"c\")]\n",
    "ordenadas = sorted(tuplas, key=lambda x: x[1])\n",
    "print(\"Lista de tuplas ordenada por segundo elemento:\", ordenadas)"
   ]
  }
 ],
 "metadata": {
  "kernelspec": {
   "display_name": "Python 3",
   "language": "python",
   "name": "python3"
  },
  "language_info": {
   "codemirror_mode": {
    "name": "ipython",
    "version": 3
   },
   "file_extension": ".py",
   "mimetype": "text/x-python",
   "name": "python",
   "nbconvert_exporter": "python",
   "pygments_lexer": "ipython3",
   "version": "3.12.0"
  }
 },
 "nbformat": 4,
 "nbformat_minor": 2
}
