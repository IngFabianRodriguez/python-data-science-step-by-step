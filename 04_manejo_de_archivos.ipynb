{
 "cells": [
  {
   "cell_type": "markdown",
   "metadata": {},
   "source": [
    " # Trabajando con Archivos en Python\n",
    "\n",
    "\n",
    "\n",
    " En esta lección aprenderemos a manejar archivos en Python. La capacidad de leer y escribir archivos es fundamental para la mayoría de los programas, ya que permite almacenar y manipular datos de forma persistente.\n",
    "\n",
    "\n",
    "\n",
    " Python proporciona varias funciones y módulos para trabajar con archivos de texto, CSV y JSON.\n",
    "\n",
    "\n",
    "\n",
    " ### Objetivos:\n",
    "\n",
    " - Aprender a abrir, leer y escribir en archivos de texto.\n",
    "\n",
    " - Trabajar con archivos CSV para leer y escribir datos en formato tabular.\n",
    "\n",
    " - Manejar archivos JSON, que son ampliamente usados para intercambio de datos en aplicaciones web.\n",
    "\n",
    "\n",
    "\n",
    " ---\n",
    "\n",
    " ## 1. Lectura y Escritura de Archivos de Texto\n",
    "\n",
    "\n",
    "\n",
    " En Python, para trabajar con archivos de texto se utiliza la función `open()`. Esta función admite diferentes modos de apertura, como lectura (`'r'`), escritura (`'w'`), y anexado (`'a'`).\n",
    "\n",
    "\n",
    "\n",
    " ### Modos de apertura de archivos:\n",
    "\n",
    " - `'r'`: Leer (por defecto). El archivo debe existir.\n",
    "\n",
    " - `'w'`: Escribir. Si el archivo no existe, se crea; si existe, se sobreescribe.\n",
    "\n",
    " - `'a'`: Añadir. Si el archivo no existe, se crea; si existe, se añade contenido al final.\n",
    "\n",
    " - `'r+'`: Leer y escribir.\n",
    "\n",
    "\n",
    "\n",
    " ### Ejemplo de lectura de un archivo de texto"
   ]
  },
  {
   "cell_type": "code",
   "execution_count": 1,
   "metadata": {},
   "outputs": [
    {
     "name": "stdout",
     "output_type": "stream",
     "text": [
      "Contenido del archivo:\n",
      " Esta es la primera línea.\n",
      "Esta es la segunda línea.\n",
      "\n"
     ]
    }
   ],
   "source": [
    "# Crearemos un archivo de ejemplo llamado \"archivo.txt\"\n",
    "with open(\"archivo.txt\", \"w\") as file:\n",
    "    file.write(\"Esta es la primera línea.\\n\")\n",
    "    file.write(\"Esta es la segunda línea.\\n\")\n",
    "\n",
    "# Leer el archivo\n",
    "with open(\"archivo.txt\", \"r\") as file:\n",
    "    contenido = file.read()\n",
    "    print(\"Contenido del archivo:\\n\", contenido)"
   ]
  },
  {
   "cell_type": "markdown",
   "metadata": {},
   "source": [
    " ### Leer el archivo línea por línea\n",
    "\n",
    "\n",
    "\n",
    " Usamos el método `readline()` para leer línea por línea o `readlines()` para obtener una lista con todas las líneas."
   ]
  },
  {
   "cell_type": "code",
   "execution_count": 2,
   "metadata": {},
   "outputs": [
    {
     "name": "stdout",
     "output_type": "stream",
     "text": [
      "Línea: Esta es la primera línea.\n",
      "Línea: Esta es la segunda línea.\n"
     ]
    }
   ],
   "source": [
    "with open(\"archivo.txt\", \"r\") as file:\n",
    "    linea = file.readline()\n",
    "    while linea:\n",
    "        print(\"Línea:\", linea.strip())\n",
    "        linea = file.readline()"
   ]
  },
  {
   "cell_type": "markdown",
   "metadata": {},
   "source": [
    " ---\n",
    "\n",
    " ### Escritura en Archivos\n",
    "\n",
    "\n",
    "\n",
    " Para escribir en archivos, usamos el modo `'w'` o `'a'`. Si el archivo no existe, será creado automáticamente."
   ]
  },
  {
   "cell_type": "code",
   "execution_count": 3,
   "metadata": {},
   "outputs": [
    {
     "name": "stdout",
     "output_type": "stream",
     "text": [
      "Contenido actualizado del archivo:\n",
      " Nuevo contenido del archivo.\n",
      "Otra línea en el archivo.\n",
      "Línea añadida al final.\n",
      "\n"
     ]
    }
   ],
   "source": [
    "# Escritura en archivo (sobrescribir el contenido)\n",
    "with open(\"archivo.txt\", \"w\") as file:\n",
    "    file.write(\"Nuevo contenido del archivo.\\n\")\n",
    "    file.write(\"Otra línea en el archivo.\\n\")\n",
    "\n",
    "# Añadir contenido a un archivo\n",
    "with open(\"archivo.txt\", \"a\") as file:\n",
    "    file.write(\"Línea añadida al final.\\n\")\n",
    "\n",
    "# Verificar el contenido actualizado\n",
    "with open(\"archivo.txt\", \"r\") as file:\n",
    "    print(\"Contenido actualizado del archivo:\\n\", file.read())"
   ]
  },
  {
   "cell_type": "markdown",
   "metadata": {},
   "source": [
    " ---\n",
    "\n",
    " ## 2. Trabajando con Archivos CSV\n",
    "\n",
    "\n",
    "\n",
    " Los archivos CSV (Comma Separated Values) son una forma sencilla de almacenar datos tabulares. Cada línea del archivo representa una fila y los valores de cada columna están separados por comas (o un delimitador específico).\n",
    "\n",
    "\n",
    "\n",
    " En Python, el módulo `csv` facilita la lectura y escritura de archivos CSV.\n",
    "\n",
    "\n",
    "\n",
    " ### Ejemplo de Escritura en un Archivo CSV"
   ]
  },
  {
   "cell_type": "code",
   "execution_count": 19,
   "metadata": {},
   "outputs": [
    {
     "name": "stdout",
     "output_type": "stream",
     "text": [
      "Datos escritos correctamente en personas.csv\n",
      "Registro: {'Nombre': 'Ana', 'Edad': '28', 'Ciudad': 'Madrid'}\n",
      "Registro: {'Nombre': 'Luis', 'Edad': '35', 'Ciudad': 'Barcelona'}\n",
      "Registro: {'Nombre': 'Sofia', 'Edad': '22', 'Ciudad': 'Valencia'}\n"
     ]
    }
   ],
   "source": [
    "import csv\n",
    "\n",
    "\n",
    "# Datos a escribir en el archivo CSV\n",
    "class Persona:\n",
    "    def __init__(self, nombre, edad, ciudad):\n",
    "        self.nombre = nombre\n",
    "        self.edad = edad\n",
    "        self.ciudad = ciudad\n",
    "\n",
    "\n",
    "# Ejemplo de uso de la clase Persona\n",
    "persona1 = Persona(\"Ana\", 28, \"Madrid\")\n",
    "persona2 = Persona(\"Luis\", 35, \"Barcelona\")\n",
    "persona3 = Persona(\"Sofia\", 22, \"Valencia\")\n",
    "\n",
    "\n",
    "# Método para escribir datos de personas en un archivo CSV\n",
    "def escribir_personas_csv(personas, campos, nombre_archivo):\n",
    "    \"\"\"\n",
    "    Escribe una lista de objetos de tipo persona en un archivo CSV.\n",
    "\n",
    "    :param personas: Lista de objetos que contienen la información de las personas.\n",
    "    :type personas: list\n",
    "    :param campos: Lista de nombres de los campos que se usarán como cabeceras en el archivo CSV.\n",
    "    :type campos: list\n",
    "    :param nombre_archivo: Nombre del archivo CSV donde se escribirán los datos.\n",
    "    :type nombre_archivo: str\n",
    "\n",
    "    :raises Exception: Si ocurre un error al intentar escribir en el archivo CSV.\n",
    "\n",
    "    :return: None\n",
    "\n",
    "    La función toma una lista de objetos `personas`, donde cada objeto debe tener los atributos `nombre`, `edad` y `ciudad`.\n",
    "    Luego, escribe estos datos en un archivo CSV con el nombre especificado en `nombre_archivo`. Los nombres de los campos\n",
    "    se especifican en la lista `campos`, que se usa para escribir la cabecera del archivo CSV. Si ocurre algún error durante\n",
    "    el proceso de escritura, se captura la excepción y se imprime un mensaje de error.\n",
    "    \"\"\"\n",
    "    try:\n",
    "        with open(nombre_archivo, \"w\", newline=\"\") as csvfile:\n",
    "            escritor = csv.DictWriter(csvfile, fieldnames=campos)\n",
    "            escritor.writeheader()\n",
    "            for persona in personas:\n",
    "                escritor.writerow(\n",
    "                    {\n",
    "                        \"Nombre\": persona.nombre,\n",
    "                        \"Edad\": persona.edad,\n",
    "                        \"Ciudad\": persona.ciudad,\n",
    "                    }\n",
    "                )\n",
    "        print(f\"Datos escritos correctamente en {nombre_archivo}\")\n",
    "    except Exception as e:\n",
    "        print(f\"Error al escribir en el archivo CSV: {e}\")\n",
    "\n",
    "\n",
    "# Definir los campos para el archivo CSV\n",
    "campos = [\"Nombre\", \"Edad\", \"Ciudad\"]\n",
    "\n",
    "# Lista de personas\n",
    "personas = [persona1, persona2, persona3]\n",
    "\n",
    "# Definir el nombre del archivo CSV\n",
    "NOMBRE_ARCHIVO_CSV = \"personas.csv\"\n",
    "\n",
    "# Escribir datos en el archivo CSV\n",
    "escribir_personas_csv(personas, campos, NOMBRE_ARCHIVO_CSV)\n",
    "\n",
    "# Verificar el contenido del archivo CSV\n",
    "try:\n",
    "    with open(NOMBRE_ARCHIVO_CSV, \"r\") as csvfile:\n",
    "        lector = csv.DictReader(csvfile)\n",
    "        for fila in lector:\n",
    "            print(\"Registro:\", fila)\n",
    "except Exception as e:\n",
    "    print(f\"Error al leer el archivo CSV: {e}\")"
   ]
  },
  {
   "cell_type": "markdown",
   "metadata": {},
   "source": [
    " ### Ejemplo de Lectura de un Archivo CSV\n",
    "\n",
    "\n",
    "\n",
    " Para leer un archivo CSV, utilizamos `csv.reader()`."
   ]
  },
  {
   "cell_type": "code",
   "execution_count": 20,
   "metadata": {},
   "outputs": [
    {
     "name": "stdout",
     "output_type": "stream",
     "text": [
      "Fila: ['Nombre', 'Edad', 'Ciudad']\n",
      "Fila: ['Ana', '28', 'Madrid']\n",
      "Fila: ['Luis', '35', 'Barcelona']\n",
      "Fila: ['Sofia', '22', 'Valencia']\n"
     ]
    }
   ],
   "source": [
    "with open(\"personas.csv\", \"r\") as csvfile:\n",
    "    lector = csv.reader(csvfile)\n",
    "    for fila in lector:\n",
    "        print(\"Fila:\", fila)"
   ]
  },
  {
   "cell_type": "markdown",
   "metadata": {},
   "source": [
    " ### Trabajar con Diccionarios en CSV\n",
    "\n",
    "\n",
    "\n",
    " Para leer y escribir archivos CSV usando diccionarios, se pueden utilizar `csv.DictWriter` y `csv.DictReader`, que son útiles cuando tenemos encabezados en el archivo CSV."
   ]
  },
  {
   "cell_type": "code",
   "execution_count": 6,
   "metadata": {},
   "outputs": [
    {
     "name": "stdout",
     "output_type": "stream",
     "text": [
      "Registro: {'Nombre': 'Carlos', 'Edad': '29', 'Ciudad': 'Sevilla'}\n",
      "Registro: {'Nombre': 'Lucía', 'Edad': '26', 'Ciudad': 'Bilbao'}\n"
     ]
    }
   ],
   "source": [
    "# Escribir en CSV usando Diccionarios\n",
    "with open(\"personas_dic.csv\", \"w\", newline=\"\") as csvfile:\n",
    "    campos = [\"Nombre\", \"Edad\", \"Ciudad\"]\n",
    "    escritor = csv.DictWriter(csvfile, fieldnames=campos)\n",
    "    escritor.writeheader()\n",
    "    escritor.writerow({\"Nombre\": \"Carlos\", \"Edad\": 29, \"Ciudad\": \"Sevilla\"})\n",
    "    escritor.writerow({\"Nombre\": \"Lucía\", \"Edad\": 26, \"Ciudad\": \"Bilbao\"})\n",
    "\n",
    "# Leer archivo CSV como Diccionario\n",
    "with open(\"personas_dic.csv\", \"r\") as csvfile:\n",
    "    lector = csv.DictReader(csvfile)\n",
    "    for fila in lector:\n",
    "        print(\"Registro:\", fila)"
   ]
  },
  {
   "cell_type": "markdown",
   "metadata": {},
   "source": [
    " ---\n",
    "\n",
    " ## 3. Manejo de Archivos JSON\n",
    "\n",
    "\n",
    "\n",
    " JSON (JavaScript Object Notation) es un formato de intercambio de datos muy popular, especialmente en aplicaciones web. Python proporciona el módulo `json` para trabajar con datos JSON.\n",
    "\n",
    "\n",
    "\n",
    " ### Escribir Datos en Formato JSON\n",
    "\n",
    "\n",
    "\n",
    " Para escribir en un archivo JSON, usamos `json.dump()`."
   ]
  },
  {
   "cell_type": "code",
   "execution_count": 7,
   "metadata": {},
   "outputs": [
    {
     "name": "stdout",
     "output_type": "stream",
     "text": [
      "Archivo 'datos.json' creado con datos JSON.\n"
     ]
    }
   ],
   "source": [
    "import json\n",
    "\n",
    "# Crear datos en formato JSON\n",
    "datos = {\n",
    "    \"nombre\": \"Andrés\",\n",
    "    \"edad\": 30,\n",
    "    \"ciudad\": \"Madrid\",\n",
    "    \"hobbies\": [\"leer\", \"escribir\", \"viajar\"],\n",
    "}\n",
    "\n",
    "# Escribir datos en archivo JSON\n",
    "with open(\"datos.json\", \"w\") as file:\n",
    "    json.dump(datos, file)\n",
    "\n",
    "print(\"Archivo 'datos.json' creado con datos JSON.\")"
   ]
  },
  {
   "cell_type": "markdown",
   "metadata": {},
   "source": [
    " ### Leer Datos desde un Archivo JSON\n",
    "\n",
    "\n",
    "\n",
    " Para leer datos de un archivo JSON, usamos `json.load()`."
   ]
  },
  {
   "cell_type": "code",
   "execution_count": 8,
   "metadata": {},
   "outputs": [
    {
     "name": "stdout",
     "output_type": "stream",
     "text": [
      "Datos cargados del archivo JSON:\n",
      " {'nombre': 'Andrés', 'edad': 30, 'ciudad': 'Madrid', 'hobbies': ['leer', 'escribir', 'viajar']}\n"
     ]
    }
   ],
   "source": [
    "with open(\"datos.json\", \"r\") as file:\n",
    "    datos_cargados = json.load(file)\n",
    "    print(\"Datos cargados del archivo JSON:\\n\", datos_cargados)"
   ]
  },
  {
   "cell_type": "markdown",
   "metadata": {},
   "source": [
    " ---\n",
    "\n",
    " ## Ejercicios de Práctica\n",
    "\n",
    "\n",
    "\n",
    " ### Ejercicio 1: Crear y Leer un Archivo de Texto\n",
    "\n",
    "\n",
    "\n",
    " 1. Escribe una función `escribir_archivo_texto` que tome una lista de frases y las escriba en un archivo de texto, una frase por línea.\n",
    "\n",
    " 2. Escribe otra función `leer_archivo_texto` que lea y muestre cada línea del archivo en la consola.\n",
    "\n",
    "\n",
    "\n",
    " ### Ejercicio 2: Crear y Leer un Archivo CSV\n",
    "\n",
    "\n",
    "\n",
    " 1. Crea un archivo CSV llamado `productos.csv` que contenga tres columnas: \"Producto\", \"Cantidad\", \"Precio\".\n",
    "\n",
    " 2. Escribe una función que lea el archivo CSV y muestre la información de cada producto en la consola.\n",
    "\n",
    "\n",
    "\n",
    " ### Ejercicio 3: Manipulación de Datos JSON\n",
    "\n",
    "\n",
    "\n",
    " 1. Crea un archivo JSON llamado `inventario.json` que almacene información de varios productos, cada uno con atributos como \"nombre\", \"cantidad\", y \"precio\".\n",
    "\n",
    " 2. Escribe una función que lea el archivo JSON e imprima un listado de productos en el inventario.\n",
    "\n",
    " 3. Escribe una función que permita actualizar la cantidad de un producto en el archivo JSON.\n",
    "\n",
    "\n",
    "\n",
    " ### Soluciones de referencia:"
   ]
  },
  {
   "cell_type": "code",
   "execution_count": 25,
   "metadata": {},
   "outputs": [
    {
     "name": "stdout",
     "output_type": "stream",
     "text": [
      "Línea: Hola mundo\n",
      "Línea: Python es genial\n",
      "Línea: OpenAI es impresionante\n",
      "Producto: ['Producto', 'Cantidad', 'Precio']\n",
      "Producto: ['Manzanas', '10', '0.5']\n",
      "Producto: ['Naranjas', '20', '0.7']\n",
      "Producto: ['Bananas', '15', '0.3']\n",
      "Producto: {'nombre': 'Manzanas', 'cantidad': 50, 'precio': 0.5}\n",
      "Producto: {'nombre': 'Naranjas', 'cantidad': 30, 'precio': 0.7}\n",
      "Producto: {'nombre': 'Bananas', 'cantidad': 20, 'precio': 0.3}\n",
      "Inventario actualizado:\n",
      "Producto: {'nombre': 'Manzanas', 'cantidad': 100, 'precio': 0.5}\n",
      "Producto: {'nombre': 'Naranjas', 'cantidad': 30, 'precio': 0.7}\n",
      "Producto: {'nombre': 'Bananas', 'cantidad': 20, 'precio': 0.3}\n"
     ]
    }
   ],
   "source": [
    "import csv\n",
    "import json\n",
    "\n",
    "\n",
    "# Ejercicio 1: Crear y Leer un Archivo de Texto\n",
    "def escribir_archivo_texto(frases):\n",
    "    \"\"\"\n",
    "    Escribe una lista de frases en un archivo de texto, una frase por línea.\n",
    "\n",
    "    :param list frases: Lista de frases a escribir en el archivo.\n",
    "    :return: None\n",
    "    \"\"\"\n",
    "    with open(\"frases.txt\", \"w\") as file:\n",
    "        for frase in frases:\n",
    "            file.write(frase + \"\\n\")\n",
    "\n",
    "\n",
    "def leer_archivo_texto():\n",
    "    \"\"\"\n",
    "    Lee y muestra cada línea del archivo de texto en la consola.\n",
    "\n",
    "    :return: None\n",
    "    \"\"\"\n",
    "    with open(\"frases.txt\", \"r\") as file:\n",
    "        for linea in file:\n",
    "            print(\"Línea:\", linea.strip())\n",
    "\n",
    "\n",
    "# Definimos la lista de frases\n",
    "frases = [\"Hola mundo\", \"Python es genial\", \"OpenAI es impresionante\"]\n",
    "\n",
    "# Probamos las funciones\n",
    "escribir_archivo_texto(frases)\n",
    "leer_archivo_texto()\n",
    "\n",
    "\n",
    "# Ejercicio 2: Crear y Leer un Archivo CSV\n",
    "def crear_archivo_csv():\n",
    "    \"\"\"\n",
    "    Crea un archivo CSV con información de productos.\n",
    "\n",
    "    :return: None\n",
    "    \"\"\"\n",
    "    with open(\"productos.csv\", \"w\", newline=\"\") as csvfile:\n",
    "        escritor = csv.writer(csvfile)\n",
    "        escritor.writerow([\"Producto\", \"Cantidad\", \"Precio\"])\n",
    "        escritor.writerow([\"Manzanas\", 10, 0.5])\n",
    "        escritor.writerow([\"Naranjas\", 20, 0.7])\n",
    "        escritor.writerow([\"Bananas\", 15, 0.3])\n",
    "\n",
    "\n",
    "def leer_archivo_csv():\n",
    "    \"\"\"\n",
    "    Lee y muestra la información de cada producto en el archivo CSV.\n",
    "\n",
    "    :return: None\n",
    "    \"\"\"\n",
    "    with open(\"productos.csv\", \"r\") as csvfile:\n",
    "        lector = csv.reader(csvfile)\n",
    "        for fila in lector:\n",
    "            print(\"Producto:\", fila)\n",
    "\n",
    "\n",
    "# Probamos las funciones\n",
    "crear_archivo_csv()\n",
    "leer_archivo_csv()\n",
    "\n",
    "\n",
    "# Ejercicio 3: Manipulación de Datos JSON\n",
    "def crear_archivo_json():\n",
    "    \"\"\"\n",
    "    Crea un archivo JSON con información de inventario de productos.\n",
    "\n",
    "    :return: None\n",
    "    \"\"\"\n",
    "    inventario = [\n",
    "        {\"nombre\": \"Manzanas\", \"cantidad\": 50, \"precio\": 0.5},\n",
    "        {\"nombre\": \"Naranjas\", \"cantidad\": 30, \"precio\": 0.7},\n",
    "        {\"nombre\": \"Bananas\", \"cantidad\": 20, \"precio\": 0.3},\n",
    "    ]\n",
    "    with open(\"inventario.json\", \"w\") as file:\n",
    "        json.dump(inventario, file)\n",
    "\n",
    "\n",
    "def leer_archivo_json():\n",
    "    \"\"\"\n",
    "    Lee y muestra la información de cada producto en el archivo JSON.\n",
    "\n",
    "    :return: None\n",
    "    \"\"\"\n",
    "    with open(\"inventario.json\", \"r\") as file:\n",
    "        inventario = json.load(file)\n",
    "        for producto in inventario:\n",
    "            print(\"Producto:\", producto)\n",
    "\n",
    "\n",
    "def actualizar_cantidad_producto(nombre_producto, nueva_cantidad):\n",
    "    \"\"\"\n",
    "    Actualiza la cantidad de un producto en el archivo JSON.\n",
    "\n",
    "    :param str nombre_producto: Nombre del producto a actualizar.\n",
    "    :param int nueva_cantidad: Nueva cantidad del producto.\n",
    "    :return: None\n",
    "    \"\"\"\n",
    "    with open(\"inventario.json\", \"r\") as file:\n",
    "        inventario = json.load(file)\n",
    "    for producto in inventario:\n",
    "        if producto[\"nombre\"] == nombre_producto:\n",
    "            producto[\"cantidad\"] = nueva_cantidad\n",
    "            break\n",
    "    with open(\"inventario.json\", \"w\") as file:\n",
    "        json.dump(inventario, file)\n",
    "\n",
    "\n",
    "# Probamos las funciones\n",
    "crear_archivo_json()\n",
    "leer_archivo_json()\n",
    "actualizar_cantidad_producto(\"Manzanas\", 100)\n",
    "print(\"Inventario actualizado:\")\n",
    "leer_archivo_json()"
   ]
  }
 ],
 "metadata": {
  "kernelspec": {
   "display_name": "Python 3",
   "language": "python",
   "name": "python3"
  },
  "language_info": {
   "codemirror_mode": {
    "name": "ipython",
    "version": 3
   },
   "file_extension": ".py",
   "mimetype": "text/x-python",
   "name": "python",
   "nbconvert_exporter": "python",
   "pygments_lexer": "ipython3",
   "version": "3.12.0"
  }
 },
 "nbformat": 4,
 "nbformat_minor": 2
}
